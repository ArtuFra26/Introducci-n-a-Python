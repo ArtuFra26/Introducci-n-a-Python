{
 "cells": [
  {
   "cell_type": "markdown",
   "id": "07a0f429",
   "metadata": {},
   "source": [
    "### ¿Qué es una estructura de datos?"
   ]
  },
  {
   "cell_type": "markdown",
   "id": "8ca98cc9",
   "metadata": {},
   "source": [
    "Una estructura de datos es un **arreglo computacional** que organiza sistemáticamente los datos que ocupan la memoria de una computadora. El tipo de estructura bajo la que se encuentre almacenado un conjunto de datos determina el modo en que dicha información es **almacenada, accesada** o **manipulada** por el usuario.\n",
    "\n",
    "Las estructuras de datos en Python desempeñan un papel crucial en desarrollo **eficiente** de diversas tareas computacionales. El proceso de selección de una estructura **apropiada** para diferentes tareas es conocido como **optimización**. "
   ]
  },
  {
   "cell_type": "markdown",
   "id": "1f815d43",
   "metadata": {},
   "source": [
    "Existen cuatro tipos básicos de estructuras de datos en Python: **listas, tuplas, diccionarios** y **conjuntos** (`lists, tuples, dictionaries, sets`). Cada una de estas estructuras sirve un propósito único.\n",
    "\n",
    "![alternatvie text](https://runawayhorse001.github.io/PythonTipsDS/_images/data_structures.png)"
   ]
  },
  {
   "cell_type": "markdown",
   "id": "292c09c4",
   "metadata": {},
   "source": [
    "## Listas"
   ]
  },
  {
   "cell_type": "markdown",
   "id": "49b9923d",
   "metadata": {},
   "source": [
    "Una lista es una **Secuencia de valores**. Los valores que integran una lista son conocidos como **elementos** o **items** y pueden pertenecer a cualquier tipo de dato. \n",
    "\n",
    "La forma más fácil de crear una lista es a través del uso de **corchetes**:"
   ]
  },
  {
   "cell_type": "code",
   "execution_count": 3,
   "id": "7eff39af",
   "metadata": {},
   "outputs": [
    {
     "name": "stdout",
     "output_type": "stream",
     "text": [
      "[1, 2, 3, 4, 5] ['perro', 'gato', 'avestruz', 'hamster', 'pez'] [1, 'dos', 3.0] []\n"
     ]
    }
   ],
   "source": [
    "#Crear una lista de números enteros\n",
    "ls_ent = [1, 2, 3, 4, 5]\n",
    "\n",
    "#Crear una lista de strings\n",
    "ls_str = [\"perro\", \"gato\", \"avestruz\", \"hamster\", \"pez\"]\n",
    "\n",
    "#Crear una lista con distintos tipos de datos\n",
    "ls_ran = [1, \"dos\", 3.0]\n",
    "\n",
    "#Crear una lista vacía\n",
    "ls_emp = []\n",
    "\n",
    "#Generar lista con 'list()'\n",
    "ls_tot = list((\"perro\", \"gato\", \"avestruz\", \"hamster\", \"pez\"))\n",
    "\n",
    "#Imprimir contenido de listas\n",
    "print(ls_ent, ls_str, ls_ran, ls_emp)"
   ]
  },
  {
   "cell_type": "markdown",
   "id": "361c5ef4",
   "metadata": {},
   "source": [
    "Es posible adicionar elementos a una lista que ya se encuentra en la memoria, o bien sustraer elementos existentes. También es posible generar listas vacías bajo la expectativa de llenarla posteriormente como parte de la ejecución de un algoritmo. Esta característica de las listas es conocida como **mutabilidad**. \n",
    "\n",
    "También es posible generar **listas de listas**, es decir, colocar una lista como elemento al interior de otra lista. Este proceso es conocido como **anidación** de listas."
   ]
  },
  {
   "cell_type": "code",
   "execution_count": 4,
   "id": "48b50c8b",
   "metadata": {},
   "outputs": [
    {
     "name": "stdout",
     "output_type": "stream",
     "text": [
      "[[1, 2, 3, 4, 5], ['perro', 'gato', 'avestruz', 'hamster', 'pez'], [1, 'dos', 3.0], []]\n"
     ]
    }
   ],
   "source": [
    "#Generar lista anidada (nested)\n",
    "ls_tot = [ls_ent, ls_str, ls_ran, ls_emp]\n",
    "\n",
    "#Imprimir contenido de lista anidada\n",
    "print(ls_tot)"
   ]
  },
  {
   "cell_type": "markdown",
   "id": "e8742e61",
   "metadata": {},
   "source": [
    "La función `list()` puede ser utilizada para convertir cadenas de texto en un objeto de tipo lista. Al utilizar, la cadena será segmentada al nivel del carácter y cada uno de estos se convertirá en un elemento de la lista."
   ]
  },
  {
   "cell_type": "code",
   "execution_count": 13,
   "id": "73aaa7bd",
   "metadata": {},
   "outputs": [
    {
     "name": "stdout",
     "output_type": "stream",
     "text": [
      "['O', 'l', 'y', 'm', 'p', 'i', 'q', 'u', 'e', ' ', 'd', 'e', ' ', 'M', 'a', 'r', 's', 'e', 'i', 'l', 'l', 'e']\n"
     ]
    }
   ],
   "source": [
    "#Definir una variable de tipo string\n",
    "s = \"Olympique de Marseille\"\n",
    "\n",
    "#Generar una lista con la variable 's'\n",
    "om = list(s)\n",
    "\n",
    "#Imprimir lista\n",
    "print(om)"
   ]
  },
  {
   "cell_type": "markdown",
   "id": "326ce7aa",
   "metadata": {},
   "source": [
    "Las listas son estructuras dinámicas y ordenadas de elementos. Su característica más sobresaliente es que pueden ser modificadas en el transcurso de la ejecución de un algoritmo.\n",
    "\n",
    "La **sintaxis** utilizada para acceder a los elementos de una lista es la misma que la de los **corchetes** (`[]`). Cuando el operador de corchete (*bracket operator*) aparece a la izquierda de una asignación, se identifica el elemento que debe ser filtrado. "
   ]
  },
  {
   "cell_type": "code",
   "execution_count": 14,
   "id": "842f90cf",
   "metadata": {},
   "outputs": [
    {
     "name": "stdout",
     "output_type": "stream",
     "text": [
      "avestruz\n"
     ]
    }
   ],
   "source": [
    "#Seleccionar el elemento número tres de la lista de strings\n",
    "bird = ls_str[2]\n",
    "\n",
    "#También es posible utilizar un índice negativo\n",
    "bird = ls_str[-3]\n",
    "\n",
    "#Imprimir elemento seleccionado\n",
    "print(bird)"
   ]
  },
  {
   "cell_type": "markdown",
   "id": "79c75736",
   "metadata": {},
   "source": [
    "El número provisto al interior de los corchetes es el **índice** que indica la posición del elemento a recuperar. Es posible utilizar la misma sintaxis para **reemplazar elementos** de una lista:"
   ]
  },
  {
   "cell_type": "code",
   "execution_count": 15,
   "id": "64a31853",
   "metadata": {},
   "outputs": [
    {
     "name": "stdout",
     "output_type": "stream",
     "text": [
      "['perro', 'gato', 'conejo', 'hamster', 'pez']\n"
     ]
    }
   ],
   "source": [
    "#Cambiar el elemento número tres de la lista de strings\n",
    "ls_str[2] = \"conejo\"\n",
    "\n",
    "#Imprimir lista de strings modificada\n",
    "print(ls_str)"
   ]
  },
  {
   "cell_type": "markdown",
   "id": "00e6f981",
   "metadata": {},
   "source": [
    "Es posible utilizar operadores aritméticos para ejecutar **operaciones entre listas**. El operador de **suma** tiene el efecto de **concatenar** listas, mientras que el operador de **multiplicación** tiene el efecto de multiplicar la dimensión de la lista. "
   ]
  },
  {
   "cell_type": "code",
   "execution_count": 16,
   "id": "30c18749",
   "metadata": {},
   "outputs": [
    {
     "name": "stdout",
     "output_type": "stream",
     "text": [
      "['perro', 'gato', 'conejo', 'hamster', 'pez', 1, 'dos', 3.0]\n",
      "['perro', 'gato', 'conejo', 'hamster', 'pez', 'perro', 'gato', 'conejo', 'hamster', 'pez', 'perro', 'gato', 'conejo', 'hamster', 'pez']\n"
     ]
    }
   ],
   "source": [
    "#Concatenar dos listas\n",
    "print(ls_str + ls_ran)\n",
    "\n",
    "#Multiplicar lista\n",
    "print(ls_str*3)"
   ]
  },
  {
   "cell_type": "markdown",
   "id": "e31656df",
   "metadata": {},
   "source": [
    "Por otro lado, para **Segmentar** (*slice*) una lista es necesario utilizar el operador `[ ]` con los índices que se desea recuperar. Antes de segmentar una lista, es importante generar una **copia** o asignar la lista segmentada a una variable diferente."
   ]
  },
  {
   "cell_type": "code",
   "execution_count": 8,
   "id": "7e9a4721",
   "metadata": {},
   "outputs": [
    {
     "name": "stdout",
     "output_type": "stream",
     "text": [
      "['perro', 'gato', 'conejo']\n",
      "['hamster', 'pez']\n",
      "['gato', 'conejo']\n"
     ]
    }
   ],
   "source": [
    "#Seccionar los primeros tres elementos de la lista de animales\n",
    "print(ls_str[:3])\n",
    "\n",
    "#Seleccionar los últimos dos elementos de la lista de animales\n",
    "print(ls_str[3:])\n",
    "\n",
    "#Seleccionar el segundo y tercer elemento de la lista de animales\n",
    "print(ls_str[1:3])"
   ]
  },
  {
   "cell_type": "markdown",
   "id": "5468c34f",
   "metadata": {},
   "source": [
    "Si se omite el primer índice, la segmentación parte del inicio de la lista. Si se omite el segundo índice, la segmentación avanza hasta el final de la lista. \n",
    "\n",
    "Es posible utilizar este mismo procedimiento a fin de reemplazar el contenido de múltiples elementos de la lista:"
   ]
  },
  {
   "cell_type": "code",
   "execution_count": 17,
   "id": "14d946ff",
   "metadata": {},
   "outputs": [
    {
     "name": "stdout",
     "output_type": "stream",
     "text": [
      "['perro', 'gato', 'conejo', 'hamster', 'caballo', 'ajolote']\n"
     ]
    }
   ],
   "source": [
    "#Cambiar los últimos dos elementos de la lista de animales\n",
    "ls_str[4:5] = [\"caballo\", \"ajolote\"]\n",
    "\n",
    "#Imprimir lista modificada\n",
    "print(ls_str)"
   ]
  },
  {
   "cell_type": "markdown",
   "id": "8768b9cc",
   "metadata": {},
   "source": [
    "Un objeto de tipo lista tiene diferentes **métodos** o funciones disponibles para la ejecución de operaciones de manipulación de datos. Es posible modificar los contenidos de la lista o incorporar nuevos elementos."
   ]
  },
  {
   "cell_type": "code",
   "execution_count": 10,
   "id": "d4ee34ce",
   "metadata": {},
   "outputs": [
    {
     "name": "stdout",
     "output_type": "stream",
     "text": [
      "['perro', 'gato', 'conejo', 'hamster', 'caballo', 'ajolote', 'pollo']\n",
      "['perro', 'gato', 'conejo', 'hamster', 'caballo', 'ajolote', 'pollo', 'gallina', 'pato']\n",
      "['ajolote', 'caballo', 'conejo', 'gallina', 'gato', 'hamster', 'pato', 'perro', 'pollo']\n"
     ]
    }
   ],
   "source": [
    "#Adicionar un elemento al final de una lista: apppend\n",
    "ls_str.append(\"pollo\")\n",
    "print(ls_str)\n",
    "\n",
    "#Adicionar una lista a otra lista: extend\n",
    "ls_str.extend([\"gallina\", \"pato\"])\n",
    "print(ls_str)\n",
    "\n",
    "#Ordenar los elementos de una lista de menor a mayor: sort\n",
    "ls_str.sort()\n",
    "print(ls_str)"
   ]
  },
  {
   "cell_type": "markdown",
   "id": "4cf4027e",
   "metadata": {},
   "source": [
    "Cuando se cuenta con una lista de valores numéricos, es posible agregar los elementos para obtener la suma del total del conjunto. Esta operación es conocida como **Reduccion** (*reduction*) de una lista."
   ]
  },
  {
   "cell_type": "code",
   "execution_count": 11,
   "id": "ddbc55a8",
   "metadata": {},
   "outputs": [
    {
     "data": {
      "text/plain": [
       "15"
      ]
     },
     "execution_count": 11,
     "metadata": {},
     "output_type": "execute_result"
    }
   ],
   "source": [
    "#Obtener la suma de los elementos de la lista de enteros\n",
    "sum(ls_ent)"
   ]
  },
  {
   "cell_type": "markdown",
   "id": "c4d7b4c9",
   "metadata": {},
   "source": [
    "En cuanto a la **eliminación** de elementos de una lista, existen múltiples métodos que pueden ser utilizados para completar esta operación. Es necesario conocer el índice del elemento o del rango de elementos que se desea remover."
   ]
  },
  {
   "cell_type": "code",
   "execution_count": 12,
   "id": "1bc582dc",
   "metadata": {},
   "outputs": [
    {
     "name": "stdout",
     "output_type": "stream",
     "text": [
      "pato\n",
      "['caballo', 'conejo', 'gallina', 'gato', 'hamster', 'perro', 'pollo']\n",
      "['conejo', 'gallina', 'gato', 'hamster', 'perro', 'pollo']\n",
      "['conejo', 'pollo']\n"
     ]
    }
   ],
   "source": [
    "#Eliminar con el método 'pop': remueve todos los elementos que no son parte del indice provisto\n",
    "ave_acuatica = ls_str.pop(-3)\n",
    "print(ave_acuatica)\n",
    "\n",
    "#Eliminar con el método 'del': remueve el elemento seleccionado\n",
    "del ls_str[0] #Eliminar ajolote\n",
    "print(ls_str)\n",
    "\n",
    "#Eliminar con el método 'remove': remueve por contenido del elemento\n",
    "ls_str.remove(\"caballo\")\n",
    "print(ls_str)\n",
    "\n",
    "#Para remover múltiples elementos es posible indicar un intervalo en el indice\n",
    "del ls_str[1:5]\n",
    "print(ls_str)"
   ]
  },
  {
   "cell_type": "markdown",
   "id": "361db0cf",
   "metadata": {},
   "source": [
    "Es importante ser cuidadoso con la manipulación de dos listas guardadas bajo el mismo nombre. Al ser objetivos *iguales* e idénticos, las modificaciones en una también se verán reflejadas en la otra."
   ]
  },
  {
   "cell_type": "code",
   "execution_count": 14,
   "id": "54725a5b",
   "metadata": {},
   "outputs": [
    {
     "name": "stdout",
     "output_type": "stream",
     "text": [
      "['conejo', 'pollo']\n",
      "['conejo', 'pollo', 'tortuga']\n"
     ]
    }
   ],
   "source": [
    "#Definir la lista de strings con un 'alias'\n",
    "ls_alias = ls_str\n",
    "\n",
    "#Imprimir la lista nueva\n",
    "print(ls_alias)\n",
    "\n",
    "#Hacer modificaciones al alias y visualizar lista previa\n",
    "ls_alias.append(\"tortuga\")\n",
    "print(ls_str)"
   ]
  },
  {
   "cell_type": "markdown",
   "id": "bee3d704",
   "metadata": {},
   "source": [
    "## Diccionarios"
   ]
  },
  {
   "cell_type": "markdown",
   "id": "a78fafee",
   "metadata": {},
   "source": [
    "Un diccionario es una **colección de índices**. Al igual que las listas, los diccionarios son estructuras bidimensionales que contienen datos estructurados por un índice. El rasgo que los diferencia de las listas es que en estos los índices pueden ser cualquier tipo de datos, no sólo valores numéricos."
   ]
  },
  {
   "cell_type": "markdown",
   "id": "abaaaca3",
   "metadata": {},
   "source": [
    "Al definir un diccionario cada uno de los índices desempeña el papel de identificador o **llave** (`key`) y cada una de estas llaves estará vinculada con un valor único. La asociación entre llave y valor es conocida como ***key-value pair*** o *item*. Dado que cada uno de los pares es único, es posible señalar que el universo de las asociaciones entre llaves y valores está delimitado."
   ]
  },
  {
   "cell_type": "code",
   "execution_count": 18,
   "id": "7806c622",
   "metadata": {},
   "outputs": [
    {
     "name": "stdout",
     "output_type": "stream",
     "text": [
      "{'dog': 'perro', 'cat': 'gato', 'fish': 'pez'}\n"
     ]
    }
   ],
   "source": [
    "#Definición de un diccionario\n",
    "eng2spa = {\"dog\":\"perro\", \"cat\":\"gato\", \"fish\":\"pez\"}\n",
    "\n",
    "#Visualizar diccionario\n",
    "print(eng2spa)"
   ]
  },
  {
   "cell_type": "markdown",
   "id": "89f2d23d",
   "metadata": {},
   "source": [
    "La definición de un diccionario se apoya en el operador `{ }`. Para agregar un nuevo valor es necesario utilizar el operador de corchetes."
   ]
  },
  {
   "cell_type": "code",
   "execution_count": 19,
   "id": "594a4030",
   "metadata": {},
   "outputs": [
    {
     "name": "stdout",
     "output_type": "stream",
     "text": [
      "{'dog': 'perro', 'cat': 'felino', 'fish': 'pez', 'fox': 'zorro'}\n",
      "4\n"
     ]
    }
   ],
   "source": [
    "#Agregar un nuevo valor al diccionario\n",
    "eng2spa[\"fox\"] = \"zorro\"\n",
    "\n",
    "#Modificar un valor \n",
    "eng2spa[\"cat\"] = \"felino\"\n",
    "\n",
    "#Imprimir el diccionario\n",
    "print(eng2spa)\n",
    "\n",
    "#Obtener extensión del diccionario\n",
    "print(len(eng2spa))"
   ]
  },
  {
   "cell_type": "markdown",
   "id": "69ced832",
   "metadata": {},
   "source": [
    "El método `len` (*length*) permite obtener la cantidad de pares que integran el diccionario. Para obtener los valores de un diccionario es posible utilizar el método `values`."
   ]
  },
  {
   "cell_type": "code",
   "execution_count": 22,
   "id": "dcffe94f",
   "metadata": {},
   "outputs": [
    {
     "name": "stdout",
     "output_type": "stream",
     "text": [
      "['perro', 'gato', 'pez', 'zorro']\n"
     ]
    }
   ],
   "source": [
    "#Obtener los valores del diccionario\n",
    "dic_vals = eng2spa.values()\n",
    "\n",
    "#Imprimir lista de valores\n",
    "print(list(dic_vals))"
   ]
  },
  {
   "cell_type": "markdown",
   "id": "9acd8bb8",
   "metadata": {},
   "source": [
    "La ventaja de trabajar con diccionarios es que los valores **mapean** siempre a un índice concreto, por lo que facilitan la ejecución de tareas de búsqueda y comparación. El método `get` puede ser utilizado para rastrear un valor dada la provisión de una llave."
   ]
  },
  {
   "cell_type": "code",
   "execution_count": 27,
   "id": "d80a6234",
   "metadata": {},
   "outputs": [
    {
     "name": "stdout",
     "output_type": "stream",
     "text": [
      "gato\n",
      "No sé\n"
     ]
    }
   ],
   "source": [
    "#Palabra a traducir\n",
    "mascota = \"cat\"\n",
    "\n",
    "#Generar función para traducir la palabra\n",
    "def traductor_pets(animal):\n",
    "    trans = eng2spa.get(animal, \"No sé\")\n",
    "    print(trans)\n",
    "\n",
    "#Implementar función\n",
    "traductor_pets(mascota)\n",
    "traductor_pets(\"rat\")"
   ]
  },
  {
   "cell_type": "markdown",
   "id": "fd6c20b2",
   "metadata": {},
   "source": [
    "El método `get` busca a través de las llaves del diccionario a fin de encontrar el valor al que la palabra a traducir (el argumento de la función) mapea en el conjunto de valores del diccionario. Si la llave no se encuentra  presente en el diccionario, la función devuelve un valor alternativo."
   ]
  },
  {
   "cell_type": "markdown",
   "id": "151c468b",
   "metadata": {},
   "source": [
    "En general, implementar operaciones de búsqueda y pareo es más eficiente mediante el uso de diccionarios que de listas. En este sentido, un programa que debe repetirse muchas veces se beneficiaría de la incorporación de esta estructura de datos para la ejecución de sus operaciones."
   ]
  },
  {
   "cell_type": "markdown",
   "id": "474ab54a",
   "metadata": {},
   "source": [
    "### ¿Y los Dataframes de Pandas?"
   ]
  },
  {
   "cell_type": "markdown",
   "id": "d5249cde",
   "metadata": {},
   "source": [
    "Los `DataFrames` de la biblioteca `Pandas` son una estructura de datos integreada por tres componentes: datos, un índice y columnas. Al ser una **estructura tabular**, las filas contienen las observaciones para cada registro individual y las columnas hacen referencia a las **variables** observadas del conjunto de datos.\n",
    "\n",
    "Los DataFrames comparten algunas características con las **listas**, como el hecho de que son mutables, se encuentran ordenados por un índice númerico o pueden contener datos de distintos tipos.\n",
    "\n",
    "Los DataFrames también comparten algunas características con los **diccionarios**, en tanto de que es posible acceder a valores utilizando *llaves* o que cada columna hace referencia a un tipo específico de valor."
   ]
  },
  {
   "cell_type": "code",
   "execution_count": 28,
   "id": "24abe232",
   "metadata": {},
   "outputs": [],
   "source": [
    "#Importar bibliotecas requeridas\n",
    "import pandas as pd\n",
    "\n",
    "#Importar el archivo de texto de extensión .csv\n",
    "df = pd.read_csv(\"D:/Documentos/Otros/Aplicaciones/DESI/Muertes_maternas_2002_2021.csv\")"
   ]
  },
  {
   "cell_type": "markdown",
   "id": "b23aeded",
   "metadata": {},
   "source": [
    "Para buscar valores en un DataFrame también es posible recurrir al método `get`. La aplicación de este método devuelve la columna referenciada. "
   ]
  },
  {
   "cell_type": "code",
   "execution_count": 44,
   "id": "d22e3687",
   "metadata": {},
   "outputs": [
    {
     "name": "stdout",
     "output_type": "stream",
     "text": [
      "[ 11  12  13  14  15  16  17  18  19  20  21  22  23  24  25  26  27  28\n",
      "  29  30  31  32  33  34  35  36  37  38  39  40  41  42  43  44  45  46\n",
      "  47  48  49  50  51  52  53  54  55  56  59  61  65  66  67  70  71  72\n",
      "  76  79  81  82  86 998]\n",
      "<class 'numpy.ndarray'>\n"
     ]
    }
   ],
   "source": [
    "#Seleccionar la columna de edad\n",
    "edad_madres = df.get(\"EDAD\").unique()\n",
    "\n",
    "#Obtener valores únicos ordenados\n",
    "edad_madres.sort()\n",
    "\n",
    "#Visualizar valores únicos de la edad\n",
    "print(edad_madres)\n",
    "print(type(edad_madres))"
   ]
  }
 ],
 "metadata": {
  "kernelspec": {
   "display_name": "Python 3 (ipykernel)",
   "language": "python",
   "name": "python3"
  },
  "language_info": {
   "codemirror_mode": {
    "name": "ipython",
    "version": 3
   },
   "file_extension": ".py",
   "mimetype": "text/x-python",
   "name": "python",
   "nbconvert_exporter": "python",
   "pygments_lexer": "ipython3",
   "version": "3.11.5"
  }
 },
 "nbformat": 4,
 "nbformat_minor": 5
}
