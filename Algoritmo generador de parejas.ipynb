{
 "cells": [
  {
   "cell_type": "code",
   "execution_count": 2,
   "id": "946f0567",
   "metadata": {},
   "outputs": [
    {
     "name": "stdout",
     "output_type": "stream",
     "text": [
      "{1: ('José Ruben', 'Aldo'), 2: ('Joaquín', 'Benjamín'), 3: ('Azel', 'Iván'), 4: ('Pablo', 'Set'), 5: ('Álvaro', 'Carolina'), 6: ('Pedro', 'Arturo')}\n"
     ]
    }
   ],
   "source": [
    "#Construir un algoritmo para generar parejas al azar\n",
    "\n",
    "#Importar bibliotecas necesarias\n",
    "import random\n",
    "\n",
    "#Definir listas de nombres y parejas\n",
    "alums = [\"Joaquín\", \"Benjamín\", \"Aldo\", \"Set\",\"José Ruben\", \"Pablo\",\"Carolina\", \"Azel\", \"Álvaro\", \"Iván\", \"Pedro\", \"Arturo\"]\n",
    "alums_falta = [\"Carolina\", \"Azel\", \"Álvaro\", \"Iván\", \"Pedro\", \"Arturo\"]\n",
    "pairs = {}\n",
    "\n",
    "#Construir parejas al azar\n",
    "for p in range(len(alums) // 2):\n",
    "    pairs[p+1] = ( alums.pop(random.randrange(len(alums))),\n",
    "        alums.pop(random.randrange(len(alums))))\n",
    "    \n",
    "#Imprimir parejas aleatorias\n",
    "print(pairs)"
   ]
  },
  {
   "cell_type": "code",
   "execution_count": null,
   "id": "a50b482e",
   "metadata": {},
   "outputs": [],
   "source": []
  }
 ],
 "metadata": {
  "kernelspec": {
   "display_name": "Python 3 (ipykernel)",
   "language": "python",
   "name": "python3"
  },
  "language_info": {
   "codemirror_mode": {
    "name": "ipython",
    "version": 3
   },
   "file_extension": ".py",
   "mimetype": "text/x-python",
   "name": "python",
   "nbconvert_exporter": "python",
   "pygments_lexer": "ipython3",
   "version": "3.11.5"
  }
 },
 "nbformat": 4,
 "nbformat_minor": 5
}
