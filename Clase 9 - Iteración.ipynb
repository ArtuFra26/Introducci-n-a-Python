{
 "cells": [
  {
   "cell_type": "markdown",
   "id": "45baff63",
   "metadata": {},
   "source": [
    "## Métodos de iteración"
   ]
  },
  {
   "cell_type": "markdown",
   "id": "c97c1444",
   "metadata": {},
   "source": [
    "La **iteración** es una estrategia de programación que consiste en ejecutar un bloque de código de manera repetida. La **recursión** es un tipo especial de iteración, basada en el llamado repetido de una misma función. Existen otras formas de iteración que son de utilidad para la resolución de problemas que demandan la ejecución de una misma tarea en múltiples ocasiones."
   ]
  },
  {
   "cell_type": "code",
   "execution_count": 1,
   "id": "344c833e",
   "metadata": {},
   "outputs": [],
   "source": [
    "#Cargar la base de datos de trabajo\n",
    "\n",
    "#Importar bibliotecas requeridas\n",
    "import pandas as pd\n",
    "import numpy as np\n",
    "\n",
    "#Importar el archivo de texto de extensión .csv\n",
    "df = pd.read_csv(\"D:/Documentos/Otros/Aplicaciones/DESI/Muertes_maternas_2002_2021.csv\")"
   ]
  },
  {
   "cell_type": "markdown",
   "id": "48b01432",
   "metadata": {},
   "source": [
    "### Reasingación de variables"
   ]
  },
  {
   "cell_type": "markdown",
   "id": "fd92ac18",
   "metadata": {},
   "source": [
    "En Python, es posible asignar un valor a una variable u objeto que ya se encuentra en la memoria de la sesión de trabajo. Este proceso es conocido como **reasignación** de variables.\n",
    "\n",
    "Es importante ser cuidadoso con la reasignación, al tiempo que una variable que cambio de valor frecuentemente puede hacer al código difícil de interpretar."
   ]
  },
  {
   "cell_type": "code",
   "execution_count": 2,
   "id": "8c4cb51e",
   "metadata": {},
   "outputs": [
    {
     "name": "stdout",
     "output_type": "stream",
     "text": [
      "5\n",
      "14\n"
     ]
    }
   ],
   "source": [
    "#Definir una variable inicial\n",
    "vx = 5\n",
    "\n",
    "#Imprimir el valor de la variable\n",
    "print(vx)\n",
    "\n",
    "#Reasignar la variable\n",
    "vx = 14\n",
    "\n",
    "#Imprimir la variable reasignada\n",
    "print(vx)"
   ]
  },
  {
   "cell_type": "markdown",
   "id": "0e32f0a0",
   "metadata": {},
   "source": [
    "Un tipo común de *reasignación* es la **actualización** (***update***), en donde el nuevo valor de la variable depende del valor previo. \n",
    "\n",
    "Antes de actualizar una variable, es necesario declararla (***initialize***), de modo que este objeto quede registrado en la memoria de trabajo de la sesión. "
   ]
  },
  {
   "cell_type": "code",
   "execution_count": 3,
   "id": "dbb57733",
   "metadata": {},
   "outputs": [
    {
     "name": "stdout",
     "output_type": "stream",
     "text": [
      "5\n",
      "6\n"
     ]
    }
   ],
   "source": [
    "#Definir una variable inicial\n",
    "vx = 5\n",
    "\n",
    "#Imprimir el valor de la variable\n",
    "print(vx)\n",
    "\n",
    "#Reasignar la variable\n",
    "vx = vx + 1\n",
    "\n",
    "#Imprimir la variable reasignada\n",
    "print(vx)"
   ]
  },
  {
   "cell_type": "markdown",
   "id": "bee51d1f",
   "metadata": {},
   "source": [
    "Actualizar una variable mediante la adición de un **1** constituye un **incremento**, al tiempo que la sustracción de un **1** es un **decremento**. Este tipo de *actualización unitaria* es de gran utilidad para la ejecución de operaciones de iteración. "
   ]
  },
  {
   "cell_type": "markdown",
   "id": "ed027cc5",
   "metadata": {},
   "source": [
    "### La sentencia *while*"
   ]
  },
  {
   "cell_type": "markdown",
   "id": "70abf391",
   "metadata": {},
   "source": [
    "Python provee múltiples métodos que facilitan la repetición de una tarea o **iteración**. Uno de estos métodos es el método `while`; el cual sirve para indicar a la computadora que debe **ejecutar repetidamente** un bloque de código hasta que se cumpla (o se deje de cumplir) una condición. \n",
    "\n",
    "El funcionamiento de `while` es similar a lo observado en el caso de la **recursión**; toda vez que, en esta última, el llamado que hacía la función a sí misma se repetía hasta que una condición se cumplía. "
   ]
  },
  {
   "cell_type": "code",
   "execution_count": 4,
   "id": "c04b8f29",
   "metadata": {},
   "outputs": [
    {
     "name": "stdout",
     "output_type": "stream",
     "text": [
      "10\n",
      "9\n",
      "8\n",
      "7\n",
      "6\n",
      "5\n",
      "4\n",
      "3\n",
      "2\n",
      "1\n",
      "Blastoff!\n"
     ]
    }
   ],
   "source": [
    "#Definir una función de conteo retroactivo con 'while'\n",
    "def countdown(n):\n",
    "    while n > 0:\n",
    "        print(n)\n",
    "        n = n - 1\n",
    "    print('Blastoff!')\n",
    "\n",
    "#Llamar a la función\n",
    "countdown(10)"
   ]
  },
  {
   "cell_type": "markdown",
   "id": "32024b7e",
   "metadata": {},
   "source": [
    "El cuerpo de la función `countdown` puede interpretarse como: ***mientras (while)** n sea mayor a 0, imprime el valor en pantalla y actualiza en decremento la variable (n). Si n es igual a cero, imprime en pantalla el string **Blastoff!***"
   ]
  },
  {
   "cell_type": "markdown",
   "id": "338cad32",
   "metadata": {},
   "source": [
    "De manera formal, una función que integra una sentencia `while` sigue un flujo de ejecución estructurado de la siguiente forma:\n",
    "\n",
    "1. Determinar si la condición fijada es `True` o `False`\n",
    "2. Si es `False`, finalizar la sentencia `while` y continuar con el siguiente paso del flujo de ejecución\n",
    "3. Si es `True`, ejecutar el bloque de código nuevamente y volver al paso de evaluación\n",
    "\n",
    "Este tipo de flujo de ejecución es conocido como **bucle** (`loop`), dado que mientras la ejecución no se interrumpa se ejecutará una y otra vez el bloque de código de inicio a fin. Es necesario fijar un punto de finalización para el bucle, de lo contrario la ejecución continuará de forma indefinida creando un ***infinite loop***."
   ]
  },
  {
   "cell_type": "code",
   "execution_count": 77,
   "id": "967d7b6d",
   "metadata": {},
   "outputs": [
    {
     "name": "stdout",
     "output_type": "stream",
     "text": [
      "La siguiente mujer es originaria de: OAXACA\n",
      "La siguiente mujer es originaria de: TLAXCALA\n",
      "La siguiente mujer es originaria de: CHIHUAHUA\n",
      "La siguiente mujer es originaria de: MÉXICO\n",
      "La siguiente mujer es originaria de: TAMAULIPAS\n",
      "La siguiente mujer es originaria de: TAMAULIPAS\n",
      "La siguiente mujer es originaria de: TAMAULIPAS\n",
      "La siguiente mujer es originaria de: TLAXCALA\n",
      "La siguiente mujer es originaria de: TAMAULIPAS\n",
      "La siguiente mujer es originaria de: TAMAULIPAS\n",
      "Todos los registros han sido revisados\n"
     ]
    }
   ],
   "source": [
    "#Definir una función para imprimir el estado de origen de las mujeres\n",
    "def state_chk(minm, maxm):\n",
    "    #Filtrar el dataset en los limites fijados por el usuario\n",
    "    df_fl = df.iloc[minm:maxm, 8]\n",
    "    \n",
    "    #Resetear el indice del dataframe filtrado\n",
    "    df_fl = df_fl.reset_index(drop = True)\n",
    "    \n",
    "    #Verificar extensión del dataset filtrado\n",
    "    ln = len(df_fl)\n",
    "    \n",
    "    #Evaluar condición\n",
    "    while ln > 0:\n",
    "        #Imprimir a las mujeres en orden descendente\n",
    "        print(\"La siguiente mujer es originaria de:\", df_fl.iloc[ln-1])\n",
    "        #Actualizar a la variable de conteo\n",
    "        ln = ln - 1\n",
    "    \n",
    "    #Última acción de la función\n",
    "    print(\"Todos los registros han sido revisados\")\n",
    "    \n",
    "#Llamar la función\n",
    "state_chk(99, 109)    "
   ]
  },
  {
   "cell_type": "markdown",
   "id": "ad89c503",
   "metadata": {},
   "source": [
    "La función `state_chk` busca imprimir el estado de origen de una lista de mujeres. La función toma dos argumentos `minm` y `maxm`; estos definen los límites del conjunto de mujeres sobre el dataset original de *Muertes maternas*.\n",
    "\n",
    "La función imprime en pantalla `La siguiente mujer es originaria de:` para cada una de las mujeres de la lista. La función `print` es repetida una cantidad *n* de veces que está dada por la dimensión en filas del dataset filtrado; tal como fue especificado por el usuario en los argumentos de la función.\n",
    "\n",
    "Como parte del flujo de ejecución, la variable `ln` sirve como *contador*, **a cada iteración se actualiza en decremento** a fin de dar cuenta del tránsito a través de cada una de las filas del dataset de filtrado. Cuando deja de cumplirse la condición de que `ln` sea mayor a cero, la ejecución del bucle es interrumpida."
   ]
  },
  {
   "cell_type": "markdown",
   "id": "c4e538f0",
   "metadata": {},
   "source": [
    "### Interrupción de *loops* con *break*"
   ]
  },
  {
   "cell_type": "markdown",
   "id": "aaa370f4",
   "metadata": {},
   "source": [
    "Es posible fijar un **punto de interrupción** del loop a través de la introducción de una **sentencia condicional**. El método `break` posibilita la introducción de estos puntos de interrupción en el flujo de ejecución de la función. \n",
    "\n",
    "La introducción de puntos de interrupción a través de `break` es de gran utilidad para el **control de excepciones**. En otras palabras, hacen posible detectar casos anómalos o espurios que no cumplen con el comportamiento esperado de la función."
   ]
  },
  {
   "cell_type": "code",
   "execution_count": 2,
   "id": "355d8ce7",
   "metadata": {},
   "outputs": [
    {
     "name": "stdout",
     "output_type": "stream",
     "text": [
      "siempre\n",
      "gana\n",
      "argumentos\n",
      "done\n",
      "done\n",
      "Done!\n"
     ]
    }
   ],
   "source": [
    "#Definir función con punto de interrupción\n",
    "def printer():\n",
    "    while True:\n",
    "        line = input()\n",
    "        if line == 'done':\n",
    "            break\n",
    "    print(line)\n",
    "    #última ejecución\n",
    "    print('Done!')\n",
    "\n",
    "#Llamar a la función\n",
    "printer()"
   ]
  },
  {
   "cell_type": "markdown",
   "id": "f0d06089",
   "metadata": {},
   "source": [
    "La función `printer` solicita un `input` al usuario en bucle. La ejecución continuará de manera indefinida dado que la condición a evaluar es `True` (y `True` siempre es `True`). \n",
    "\n",
    "La única forma de escapar este bucle es a través de introducir `done` como input. Al hacerlo, se cumple con la sentencia condicional que desemboca en la ejecución del método `break`. La interrupción del loop se ve sucedida por la ejecución del último print: **Done!**."
   ]
  },
  {
   "cell_type": "code",
   "execution_count": 82,
   "id": "d86275c1",
   "metadata": {},
   "outputs": [
    {
     "name": "stdout",
     "output_type": "stream",
     "text": [
      "La siguiente mujer es originaria de: VERACRUZ DE IGNACIO DE LA LLAVE\n",
      "La siguiente mujer es originaria de: JALISCO\n",
      "La siguiente mujer es originaria de: SONORA\n",
      "La siguiente mujer es originaria de: OAXACA\n",
      "Todos los registros han sido revisados\n"
     ]
    }
   ],
   "source": [
    "#Redefinir la función para introducir un punto de interrupción\n",
    "def state_chk(minm, maxm):\n",
    "    #Filtrar el dataset en los limites fijados por el usuario\n",
    "    df_fl = df.iloc[minm:maxm, 8]\n",
    "    \n",
    "    #Resetear el indice del dataframe filtrado\n",
    "    df_fl = df_fl.reset_index(drop = True)\n",
    "    \n",
    "    #Verificar extensión del dataset filtrado\n",
    "    ln = len(df_fl)\n",
    "    \n",
    "    #Evaluar condición\n",
    "    while ln > 0:\n",
    "        #Imprimir a las mujeres en orden descendente\n",
    "        print(\"La siguiente mujer es originaria de:\", df_fl.iloc[ln-1])\n",
    "       \n",
    "        #Interrumpir la ejecución del loop si encuentra a una mujer de Oaxaca\n",
    "        if df_fl.iloc[ln-1] == \"OAXACA\":\n",
    "            break\n",
    "        \n",
    "        #Actualizar a la variable de conteo\n",
    "        ln = ln - 1\n",
    "    \n",
    "    #Última acción de la función\n",
    "    print(\"Todos los registros han sido revisados\")\n",
    "    \n",
    "#Llamar la función\n",
    "state_chk(1, 10)    "
   ]
  },
  {
   "cell_type": "markdown",
   "id": "22496169",
   "metadata": {},
   "source": [
    "La función `state_chk` fue redefinida a fin de incorporar un punto de interrupción. De esta forma, la ejecución del loop y, por ende, de la impresión continua del estado de origen de las mujeres se ve interrumpida una vez que la función se encuentra con una mujer originaria de Oaxaca.\n",
    "\n",
    "El punto de interrupción es introducido a través de una sentencia condicional ( `if`) y se denota a través de la introducción del método `break`. Una vez que la ejecución del bucle es interrumpida, el flujo de ejecución salta automática a la siguiente instrucción, sin permitir que se actualice en decremento la variable de conteo o que se imprima el resto de los estados de la lista. "
   ]
  }
 ],
 "metadata": {
  "kernelspec": {
   "display_name": "Python 3 (ipykernel)",
   "language": "python",
   "name": "python3"
  },
  "language_info": {
   "codemirror_mode": {
    "name": "ipython",
    "version": 3
   },
   "file_extension": ".py",
   "mimetype": "text/x-python",
   "name": "python",
   "nbconvert_exporter": "python",
   "pygments_lexer": "ipython3",
   "version": "3.11.5"
  }
 },
 "nbformat": 4,
 "nbformat_minor": 5
}
