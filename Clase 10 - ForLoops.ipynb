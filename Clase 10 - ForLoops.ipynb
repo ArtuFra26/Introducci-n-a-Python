{
 "cells": [
  {
   "cell_type": "markdown",
   "id": "94de2d0c",
   "metadata": {},
   "source": [
    "## Iteración con *for*- loops"
   ]
  },
  {
   "cell_type": "markdown",
   "id": "7d4fe58a",
   "metadata": {},
   "source": [
    "Al igual que muchos otros lenguajes de programación, Python ofrece la posibilidad de ejecutar repetidamente un bloque de código a través de la introducción de **métodos de iteración**.\n",
    "\n",
    "Una de las formas más habituales de ejecutar repetidamente un programa es a través de ***bucles*** o **loops**. "
   ]
  },
  {
   "cell_type": "code",
   "execution_count": 2,
   "id": "9aaf762c",
   "metadata": {},
   "outputs": [],
   "source": [
    "#Cargar la base de datos de trabajo\n",
    "\n",
    "#Importar bibliotecas requeridas\n",
    "import pandas as pd\n",
    "import numpy as np\n",
    "\n",
    "#Importar el archivo de texto de extensión .csv\n",
    "df = pd.read_csv(\"D:/Documentos/Otros/Aplicaciones/DESI/Muertes_maternas_2002_2021.csv\")"
   ]
  },
  {
   "cell_type": "markdown",
   "id": "db3b4212",
   "metadata": {},
   "source": [
    "La construcción de un loop puede estar motivada por la necesidad de repetir un bloque de código hasta que se observe el cumplimiento de una condición (método `while`) o bien por la necesidad de aplicar un **mismo procedimiento o transformación** a un ***objeto secuencial***.\n",
    "\n",
    "Este último tipo de loop corresponde a los bucles generados utilizando la palabra reservada `for` y son aplicables a objetos de tipo: `list, string, tuple, set, array` y `dataframe`.\n",
    "\n",
    "![alternative text](https://res.cloudinary.com/dyd911kmh/image/upload/f_auto,q_auto:best/v1508331558/Loop_2-2_igl4qt.jpg)"
   ]
  },
  {
   "cell_type": "markdown",
   "id": "ebb22e68",
   "metadata": {},
   "source": [
    "Dado un conjunto de elementos organizados en un objeto secuencial, un **for-loop** puede ser utilizado para iterar a través de cada uno de estos elementos para aplicarle el procedimiento especificado. \n",
    "\n",
    "A fin de iterar a través de un objeto, el método `for` utiliza la función `range`. Esta función genera una *lista de números* que es utilizada para estructurar el **orden** y **duración** de ejecución del bucle. "
   ]
  },
  {
   "cell_type": "code",
   "execution_count": 2,
   "id": "cf6369ee",
   "metadata": {},
   "outputs": [
    {
     "name": "stdout",
     "output_type": "stream",
     "text": [
      "1\n",
      "2\n",
      "3\n",
      "4\n",
      "5\n",
      "6\n",
      "7\n",
      "8\n",
      "9\n",
      "10\n"
     ]
    }
   ],
   "source": [
    "#Generar un bucle con 'for'\n",
    "for i in range(10):\n",
    "    #Imprimir con índice ajustado\n",
    "    print(i+1)"
   ]
  },
  {
   "cell_type": "markdown",
   "id": "1f1d541c",
   "metadata": {},
   "source": [
    "El índice de los ***for-loops*** en Python comienza en **cero**; por lo que el proceso de iteración comenzará en el **índice cero** del objeto sobre el que se itera o en la **posición inicial** de la secuencia generada.\n",
    "\n",
    "El ejemplo anterior imprime en pantalla una secuencia de números que va del 1 al 10. A fin de que la repetición iniciara en cero, fue necesario adicionar 1 al argumento `i`.\n",
    "\n",
    "Este argumento es equivalente al número de cada repetición del bucle. En este sentido, la instrucción puede  leerse como: *por cada **i** (cada repetición) dada por la secuencia que va de 0 a 9...*"
   ]
  },
  {
   "cell_type": "code",
   "execution_count": 3,
   "id": "4f47078a",
   "metadata": {},
   "outputs": [
    {
     "name": "stdout",
     "output_type": "stream",
     "text": [
      "P\n",
      "r\n",
      "o\n",
      "g\n",
      "r\n",
      "a\n",
      "m\n",
      "a\n",
      "c\n",
      "i\n",
      "ó\n",
      "n\n"
     ]
    }
   ],
   "source": [
    "#Generar un bucle con 'for' para un string\n",
    "for i in \"Programación\":\n",
    "    #Imprimir los carácteres\n",
    "    print(i)"
   ]
  },
  {
   "cell_type": "markdown",
   "id": "e5805f5e",
   "metadata": {},
   "source": [
    "Como en el caso anterior, la instrucción especificada en el cuerpo del bucle permite imprimir en pantalla cada uno de los *elementos* que integran el objeto string. \n",
    "\n",
    "El bucle *itera* a través de la cadena de carácteres. En este contexto, cada uno de los carácteres es considerado como un **elemento** de la secuencia."
   ]
  },
  {
   "cell_type": "code",
   "execution_count": 4,
   "id": "4491c6cf",
   "metadata": {},
   "outputs": [
    {
     "name": "stdout",
     "output_type": "stream",
     "text": [
      "5 multiplicado por 5 es igual a: 25\n",
      "15 multiplicado por 5 es igual a: 75\n",
      "25 multiplicado por 5 es igual a: 125\n",
      "35 multiplicado por 5 es igual a: 175\n",
      "45 multiplicado por 5 es igual a: 225\n",
      "55 multiplicado por 5 es igual a: 275\n",
      "65 multiplicado por 5 es igual a: 325\n",
      "75 multiplicado por 5 es igual a: 375\n",
      "85 multiplicado por 5 es igual a: 425\n",
      "95 multiplicado por 5 es igual a: 475\n"
     ]
    }
   ],
   "source": [
    "#Definir una  lista \n",
    "ls = [5, 15, 25, 35, 45, 55, 65, 75, 85, 95]\n",
    "\n",
    "#Generar un bucle con 'for' aplicado a una lista\n",
    "for i in ls:\n",
    "    print(i, \"multiplicado por 5 es igual a:\", i*5)"
   ]
  },
  {
   "cell_type": "markdown",
   "id": "31203d67",
   "metadata": {},
   "source": [
    "Al iterar a través de una lista, el cuerpo del bucle llama a los elementos de manera ordenada. En este sentido, la ***i*** indica cuál es el elemento de la lista al que se le deben aplicar las operaciones especificadas en el cuerpo del bucle. \n",
    "\n",
    "También es posible hacer referencia a los elementos de una lista mediante su **índice** o la posición que mantienen al interior del objeto. Para hacerlo, es necesario especificar la dimensión de la secuencia sobre la que se va a iterar mediante la función `len`."
   ]
  },
  {
   "cell_type": "code",
   "execution_count": 5,
   "id": "11510e98",
   "metadata": {},
   "outputs": [
    {
     "name": "stdout",
     "output_type": "stream",
     "text": [
      "5 multiplicado por 5 es igual a: 25\n",
      "15 multiplicado por 5 es igual a: 75\n",
      "25 multiplicado por 5 es igual a: 125\n",
      "35 multiplicado por 5 es igual a: 175\n",
      "45 multiplicado por 5 es igual a: 225\n",
      "55 multiplicado por 5 es igual a: 275\n",
      "65 multiplicado por 5 es igual a: 325\n",
      "75 multiplicado por 5 es igual a: 375\n",
      "85 multiplicado por 5 es igual a: 425\n",
      "95 multiplicado por 5 es igual a: 475\n"
     ]
    }
   ],
   "source": [
    "#Generar un bucle con 'for' para una lista (índice)\n",
    "for i in range(len(ls)):\n",
    "    print(ls[i], \"multiplicado por 5 es igual a:\", ls[i]*5)"
   ]
  },
  {
   "cell_type": "markdown",
   "id": "86d05346",
   "metadata": {},
   "source": [
    "A fin de acceder al elemento de la lista **especificado posicionalmente** en la ejecución del bucle, es necesario aplicar un *subsetting* en la lista original; de modo que sea posible recuperar al elemento deseado: `ls[i]`.\n",
    "\n",
    "Ya que `i` es equivalente a un número, generado por la función `range`, esta puede ser utilizada como argumento para la ejecución del filtrado.\n",
    "\n",
    "La búsqueda posicional es especialmente útil para la ejecución de tareas de transformación de los elementos contenidos en los objetos sobre los que se itera:"
   ]
  },
  {
   "cell_type": "code",
   "execution_count": 6,
   "id": "bca625f8",
   "metadata": {},
   "outputs": [
    {
     "name": "stdout",
     "output_type": "stream",
     "text": [
      "Valor original: 5\n",
      "Valor actualizado: 0\n",
      "Valor original: 15\n",
      "Valor actualizado: 10\n",
      "Valor original: 25\n",
      "Valor actualizado: 20\n",
      "Valor original: 35\n",
      "Valor actualizado: 30\n",
      "Valor original: 45\n",
      "Valor actualizado: 40\n",
      "Valor original: 55\n",
      "Valor actualizado: 50\n",
      "Valor original: 65\n",
      "Valor actualizado: 60\n",
      "Valor original: 75\n",
      "Valor actualizado: 70\n",
      "Valor original: 85\n",
      "Valor actualizado: 80\n",
      "Valor original: 95\n",
      "Valor actualizado: 90\n"
     ]
    }
   ],
   "source": [
    "#Modificar los elementos de una lista de forma iterativa\n",
    "for i in range(len(ls)):\n",
    "    #Imprimir elemento original\n",
    "    print(\"Valor original:\", ls[i])\n",
    "    #Generar variable de actualización\n",
    "    fix = ls[i]\n",
    "    #Actualizar el elemento de la lista \n",
    "    ls[i] = fix - 5\n",
    "    #Imprimir el elemento actualizado\n",
    "    print(\"Valor actualizado:\", ls[i])"
   ]
  },
  {
   "cell_type": "markdown",
   "id": "a4bb18e0",
   "metadata": {},
   "source": [
    "A través de la ejecución del bucle, es posible **actualizar en decremento** los elementos de la lista. La operación de reasignación se ejecutó de forma ordenada sobre cada uno de los elementos de la secuencia de datos.\n",
    "\n",
    "Las modificaciones ejecutados sobre el objeto al interior del bucle son de carácter **permanente**, al tiempo que el bucle trabaja con objetos ubicados en el ambiente principal de la sesión de trabajo."
   ]
  },
  {
   "cell_type": "code",
   "execution_count": 7,
   "id": "3d1d7014",
   "metadata": {},
   "outputs": [
    {
     "name": "stdout",
     "output_type": "stream",
     "text": [
      "[0, 10, 20, 30, 40, 50, 60, 70, 80, 90]\n"
     ]
    }
   ],
   "source": [
    "#Imprimir lista de objetos\n",
    "print(ls)"
   ]
  },
  {
   "cell_type": "markdown",
   "id": "5567653d",
   "metadata": {},
   "source": [
    "También es posible utilizar los *for-loops* para evaluar sentencias condicionales de forma iterativa:"
   ]
  },
  {
   "cell_type": "code",
   "execution_count": null,
   "id": "09258aef-c85f-4b5f-817b-136bf6e34095",
   "metadata": {},
   "outputs": [],
   "source": [
    "## EJECUTAR EL BLOQUE\n",
    "\n",
    "#Generar un bucle que imprima el estado y municipio de residencia\n",
    "for i in range(len(df[\"ENTIDAD_RESIDENCIAD\"])):\n",
    "    #Establecer una condición\n",
    "    if(df[\"ENTIDAD_RESIDENCIAD\"][i] == \"JALISCO\"):\n",
    "        #Imprimir cadena de estado y municipio\n",
    "        print(\"Estado de residencia: Jalisco\",\n",
    "              \"\\nMunicipio de residencia:\", df[\"MUNICIPIO_RESIDENCIAD\"][i])\n",
    "    else:\n",
    "        print(\"No es de Jalisco\")"
   ]
  },
  {
   "cell_type": "markdown",
   "id": "89117223",
   "metadata": {},
   "source": [
    "Este bucle evalúa si cada registro individual está asociado a una mujer residente de **Jalisco**. Cuando se cumple esta condición, se imprime en pantalla el estado y municipio de residencia y cuando no se cumple se imprime la leyenda *No es de Jalisco*.\n",
    "\n",
    "La sentencia condicional se evalúa una cantidad de veces fijada por la longitud de la secuencia dada por la función `range`; ésta abarca la dimensión en filas del dataframe de *Muertes maternas*."
   ]
  },
  {
   "cell_type": "markdown",
   "id": "4eb6815b",
   "metadata": {},
   "source": [
    "## Reasignación mediante iteración"
   ]
  },
  {
   "cell_type": "markdown",
   "id": "b2953d58",
   "metadata": {},
   "source": [
    "Uno de los principales usos de los ***for-loops*** es la **modificación iterativa** de objetos secuenciales como listas, diccionarios o dataframes. \n",
    "\n",
    "Es posible aplicar operaciones a los elementos que forman parte de una secuencia al interior de un bucle. Sin embargo, es importante ser precavido en la forma cómo se reasigna el objeto original, al tiempo que  las modificaciones hechas al interior de un bucle son de carácter permanente.\n",
    "\n",
    "También es posible **construir un objeto** al interior de una lista. Este procedimiento asemeja el *llenado de un contenedor* en donde la iteración constituye el medio mediante el que nuevos elementos son incorporados a un objeto que sirve como contenedor."
   ]
  },
  {
   "cell_type": "code",
   "execution_count": 54,
   "id": "c9071fc8",
   "metadata": {},
   "outputs": [
    {
     "name": "stdout",
     "output_type": "stream",
     "text": [
      "['Obs_1']\n",
      "['Obs_1', 'Obs_2']\n",
      "['Obs_1', 'Obs_2', 'Obs_3']\n",
      "['Obs_1', 'Obs_2', 'Obs_3', 'Obs_4']\n",
      "['Obs_1', 'Obs_2', 'Obs_3', 'Obs_4', 'Obs_5']\n"
     ]
    }
   ],
   "source": [
    "#Modificar los elementos de una lista mediante un bucle for\n",
    "\n",
    "#Lista original\n",
    "ls1 = [\"Obs\", \"Obs\", \"Obs\", \"Obs\", \"Obs\"]\n",
    "\n",
    "#Lista contenedora\n",
    "ls2 = []\n",
    "\n",
    "#Definición del bucle\n",
    "for i in range(len(ls1)):\n",
    "    #Generar valores a imputar\n",
    "    seq = list(range(1, len(ls1)+1))\n",
    "    #Definir valor a incorporar\n",
    "    val = ls1[i] + \"_\" + str(seq[i])\n",
    "    #Incorporar valores en contenedor\n",
    "    ls2.append(val)\n",
    "    #Visualizar vector final\n",
    "    print(ls2)"
   ]
  },
  {
   "cell_type": "markdown",
   "id": "b2b118ff",
   "metadata": {},
   "source": [
    "En el ejemplo previo, la lista `ls2` sirve como contenedor para los elementos modificados de la lista `ls1`. La operación de transformación consiste en incorporar un marcado de posición a cada una de las observaciones. La lista contenedora es ***reasignada*** en cada ejecución del bucle a través de la función `append`. \n",
    "\n",
    "El objeto final cuenta con cinco elementos que corresponden a los cinco valores modificados de la lista original."
   ]
  },
  {
   "cell_type": "markdown",
   "id": "02ebf271",
   "metadata": {},
   "source": [
    "## Bucles anidados"
   ]
  },
  {
   "cell_type": "markdown",
   "id": "b676cc8c",
   "metadata": {},
   "source": [
    "Es posible incorporar múltiples *for-loops* en una sola ejecución. Al hacerlo, el programa itera sobre dos o más secuencias de objetos. Esto es lo que se conoce como ***bucles anidados***.\n",
    "\n",
    "Las operaciones a ejecutar se especifican bajo cada uno de los headers `for`. La ejecución se ejecutare *de afuera hacia adentro*, de manera que si una instrucción es colocada entre dos `for`, solamente se aplicará a la secuencia inmediatamente superior."
   ]
  },
  {
   "cell_type": "code",
   "execution_count": null,
   "id": "63ab6b03-63ce-437c-b9ba-ce1c6f5ec167",
   "metadata": {},
   "outputs": [],
   "source": [
    "## EJECUTAR EL BLOQUE\n",
    "\n",
    "#Generar un loop en el que se evalúe si la localidad de muerte es igual a la localidad de residencia\n",
    "for i in range(len(df[\"ENTIDAD_RESIDENCIAD\"])):\n",
    "    #Definir primer valor de comparación\n",
    "    res = df.iloc[i, 8]\n",
    "    for j in range(len(df[\"ENTIDAD_OCURRENCIAD\"])):\n",
    "        #Definir segundo valor de comparación\n",
    "        ocu = df.iloc[j, 22]\n",
    "        #Condición de evaluación\n",
    "        if(res == ocu):\n",
    "            #Las entidades corresponden\n",
    "            print(\"La entidad de residencia y de ocurrencia del fallecimiento son la misma:\", res)\n",
    "            break\n",
    "        else:\n",
    "            print(\"Las entidades difieren:\", res, ocu)"
   ]
  },
  {
   "cell_type": "markdown",
   "id": "43efb4f4",
   "metadata": {},
   "source": [
    " Es importante ser cuidadoso con los bucles anidados, al tiempo que el tiempo de ejecución puede tornarse largo. Esto se debe a que, mientras el bucle exterior se ejecuta **una vez**, el bucle de interior se ejecuta **tantas veces como la indica la secuencia del *for***.\n",
    " \n",
    " De esta forma, para el ejemplo precedente, el loop se ejecutaría en **22,395 x 22,395** ocasiones. \n",
    " \n",
    " A fin de evitar que la ejecución se prolongue por demasiado tiempo, es importante introducir un punto de interrupción mediante el método `break`."
   ]
  },
  {
   "cell_type": "markdown",
   "id": "5216f910",
   "metadata": {},
   "source": [
    "Es posible integrar varios tipos de bucles como parte de la construcción de un bucle:"
   ]
  },
  {
   "cell_type": "code",
   "execution_count": null,
   "id": "41f3ae29-ba1e-448c-a392-5c03a8f93b90",
   "metadata": {},
   "outputs": [],
   "source": [
    "## EJECUTAR EL BLOQUE\n",
    "\n",
    "#Definir condiciones iniciales\n",
    "i = 0 \n",
    "\n",
    "#Generar bucle anidado para verificar si estados son iguales\n",
    "while(i < len(df)):\n",
    "    #Generar primer valor de comparación\n",
    "    res = df.iloc[i, 8]\n",
    "    #Actualizar contadores\n",
    "    i = i + 1\n",
    "    #Anidar segundo bucle\n",
    "    for j in range(len(df[\"ENTIDAD_OCURRENCIAD\"])):\n",
    "        #Definir segundo valor de comparación\n",
    "        ocu = df.iloc[j, 22]\n",
    "        #Condición de evaluación\n",
    "        if(res == ocu):\n",
    "            #Las entidades corresponden\n",
    "            print(\"La entidad de residencia y de ocurrencia del fallecimiento son la misma:\", res)\n",
    "            break\n",
    "        else:\n",
    "            print(\"Las entidades difieren:\", res, ocu)"
   ]
  },
  {
   "cell_type": "markdown",
   "id": "32adf847",
   "metadata": {},
   "source": [
    "Este bucle ejecuta el mismo tipo de operación que el ejemplo anterior. La diferencia radica en que utiliza un loop `while` a fin de iterar a través de la secuencia de *entidad de residencia*. \n",
    "\n",
    "En este contexto, la variable contadora sirve para actualizar el proceso de iteración. Dada la condición impuesta, `i < len(df)`, la ejecución terminará una vez que se hayan abordado todas las filas del dataframe."
   ]
  },
  {
   "cell_type": "markdown",
   "id": "2a5f8ed7",
   "metadata": {},
   "source": [
    "Dado que los cambios observados en bucles son de carácter permanente, es importante **no modificar o transformar** un objeto siguiendo este procedimiento, sino utilizar copias de la secuencia de trabajo."
   ]
  },
  {
   "cell_type": "markdown",
   "id": "668fa7a0",
   "metadata": {},
   "source": [
    "## Reto de programación"
   ]
  },
  {
   "cell_type": "markdown",
   "id": "5d2c401a",
   "metadata": {},
   "source": [
    "Trabaje de manera colaborativa con su pareja asignada y genere una función que ejecute las siguientes tareas:\n",
    "\n",
    "1. Obtener la edad, estado de ocurrencia, año de defunción y razón de mortalidad materna de las mujeres del dataset de *Muertes maternas*\n",
    "2. Incorpore una funcionalidad que permita al usuario especificar el rango de edad, estado de ocurrencia y año de defunción que desea visualizar. Filtre el dataset con base en estos criterios.\n",
    "3. Para las mujeres que permanezcan en el dataset filtrado, genere una ficha de datos que siga la siguiente estructura:\n",
    "\n",
    "*Registro_**IndiceFilas**: Edad **años**; Estado de ocurrencia: **Estado**; Año de defunción: **año**; Causa de muerte: **Causa***\n",
    "\n",
    "Ejemplo: *Registro_124: Edad: 24 años; Estado de ocurrencia: OAXACA; Año de defunción: 2006; Causa de muerte: Sangrado*\n",
    "\n",
    "Utilice un **loop** para la construcción de las fichas de datos de las mujeres registradas.\n",
    "\n",
    "4. Almacene la fichas generadas iterativamente en una lista contenedora\n",
    "5. Exporte la lista final como un archivo de extensión .csv, cada una de las fichas debe corresponder a una fila en este archivo.\n",
    "\n",
    "La función debe encontrarse adecuadamente documentada. La pareja que sea capaz de generar una función que cumpla con los requisitos primero recibirá 3 décimos adicionales sobre la calificación final. También se premiará el uso de herramientas computacionales que posibiliten una ejecución más eficiente y ordenada de la función. \n",
    "\n",
    "En caso de **no terminar** el ejercicio durante el horario de clase, su conclusión quedará pendiente como tarea."
   ]
  },
  {
   "cell_type": "code",
   "execution_count": 4,
   "id": "69ba6735",
   "metadata": {},
   "outputs": [],
   "source": [
    "#Definir función del reto\n",
    "def gen_ficha():\n",
    "\n",
    "    #Importar bibliotecas requeridas\n",
    "    import pandas as pd\n",
    "\n",
    "    #Filtrar columnas requeridas\n",
    "    df_fl = df.iloc[:, [4, 22, 29, 38]]\n",
    "\n",
    "    #Solicitar al usuario que indique criterios de filtrado\n",
    "    age_min = int(input(\"¿Cuál es la edad mínima de las mujeres que desea conocer? \"))\n",
    "    age_max = int(input(\"¿Cuál es la edad máxima de las mujeres que desea conocer \"))\n",
    "    estado = input(\"Defina el estado de ocurrencia de las defunciones \").upper()\n",
    "    año_df = int(input(\"Defina el año de ocurrencia de las defunciones \"))\n",
    "\n",
    "    #Filtrar datos con base a criterios\n",
    "    df_fl = df_fl[(df_fl.EDAD > age_min) & \n",
    "                  (df_fl.EDAD < age_max) & \n",
    "                  (df_fl.ENTIDAD_OCURRENCIAD == estado) & \n",
    "                  (df_fl.ANIO_DEFUNCION == año_df)]\n",
    "    \n",
    "    #Verificar que haya datos\n",
    "    if df_fl.shape[0] > 0:\n",
    "\n",
    "        #Generar la lista contenedora\n",
    "        ls_co = []\n",
    "\n",
    "        #Definir bucle para la generación de las fichas\n",
    "        for i in range(len(df_fl)):\n",
    "\n",
    "            #Palabras a integrar para la ficha\n",
    "            wds = [\"Registro_\", str(df_fl.index.values[i]), \":\", \n",
    "                   \"Edad:\", str(df_fl.iloc[i,0]), \"/\", \n",
    "                   \"Estado de ocurrencia:\", str(df_fl.iloc[i,1]), \"/\", \n",
    "                   \"Año de ocurrencia:\", str(df_fl.iloc[i,2]), \"/\", \n",
    "                   \"Causa de muerte:\", str(df_fl.iloc[i,3])] \n",
    "\n",
    "            #Pegar todos los valores juntos:\n",
    "            fic = \" \".join(wds)\n",
    "\n",
    "            #Depositar registros en contenedor\n",
    "            ls_co.append(fic) \n",
    "\n",
    "        #Transformar lista en dataframe\n",
    "        df_exp = pd.DataFrame(ls_co, columns = [\"Fichas\"])\n",
    "\n",
    "        #Exportar dataframe como archivo .csv\n",
    "        df_exp.to_csv(\"out_muj_defun.csv\", index = False)\n",
    "        \n",
    "        #Señalar que el dataframe estará en directorio\n",
    "        return print(\"Cantidad de registros encontrados:\", df_exp.shape[0],\n",
    "                     \"\\nEl archivo de excel con las fichas aparecerá en su directorio en unos segundos\")\n",
    "    \n",
    "    #Si no se encontraron registros \n",
    "    else:\n",
    "        print(\"No hay datos para los parámetros especificados\")"
   ]
  },
  {
   "cell_type": "code",
   "execution_count": 5,
   "id": "4a8c1429",
   "metadata": {},
   "outputs": [
    {
     "name": "stdout",
     "output_type": "stream",
     "text": [
      "¿Cuál es la edad mínima de las mujeres que desea conocer? 20\n",
      "¿Cuál es la edad máxima de las mujeres que desea conocer 39\n",
      "Defina el estado de ocurrencia de las defunciones oaxaca\n",
      "Defina el año de ocurrencia de las defunciones 2009\n",
      "Cantidad de registros encontrados: 50 \n",
      "El archivo de excel con las fichas aparecerá en su directorio en unos segundos\n"
     ]
    }
   ],
   "source": [
    "#Ejecutar función generadora de fichas\n",
    "gen_ficha()"
   ]
  }
 ],
 "metadata": {
  "kernelspec": {
   "display_name": "Python 3 (ipykernel)",
   "language": "python",
   "name": "python3"
  },
  "language_info": {
   "codemirror_mode": {
    "name": "ipython",
    "version": 3
   },
   "file_extension": ".py",
   "mimetype": "text/x-python",
   "name": "python",
   "nbconvert_exporter": "python",
   "pygments_lexer": "ipython3",
   "version": "3.11.5"
  }
 },
 "nbformat": 4,
 "nbformat_minor": 5
}
