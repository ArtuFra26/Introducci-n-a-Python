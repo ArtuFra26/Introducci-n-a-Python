{
 "cells": [
  {
   "cell_type": "markdown",
   "id": "02d92daf-d3da-44f6-8c2f-76e8b4942b3a",
   "metadata": {},
   "source": [
    "## Debugging"
   ]
  },
  {
   "cell_type": "markdown",
   "id": "3e0b096c-f343-4789-b883-b5b2288b9173",
   "metadata": {},
   "source": [
    "Al escribir código, es casi una garantía que ocurrirá algún error. La mayor parte de los errores o ***bugs*** ocurren en virtud de la existencia de una divergencia entre el modelo mental que se tiene del programa y el funcionamiento efectivo del código.\n",
    "\n",
    "La adquisición de experiencia en programación permite refinar la capacidad de generar modelos mentales del flujo de ejecución que sigue un algoritmo. Sin embargo, toma años de experiencia el poder generar código que funcione sin errores en el primer intento.\n",
    "\n",
    "En este sentido, es importante seguir un flujo de trabajo que haga posible la identificación y resolución de errores. Una de las habilidades requeridas para esto es el **debugging**."
   ]
  },
  {
   "cell_type": "markdown",
   "id": "54c73bb3-e719-4d19-a219-8f5331a39838",
   "metadata": {},
   "source": [
    "Existen tres tipos de error que pueden ser atendidos mediante el debugging:\n",
    "\n",
    "1. **Errores inesperados**: este es el tipo más fácil, dado que será posible rastrear la fuente del error por medio del **traceback** que se imprime en pantalla. Una vez que se ha identificado el problema, es necesario validar sistemáticamente los supuestos de la solución hasta cerrar la brecha entre expectativas y realidad.\n",
    "\n",
    "2. **Resultados espurios**: no se muestra ningún error en pantalla, sin embargo el valor de retorno de la ejecución del programa no es el esperado. En este caso, es necesario evaluar paso a paso el flujo de ejecución hasta identificar el punto de error.\n",
    "\n",
    "3. **Fallas en actualización**: no se muestra ningún error en pantalla y los valores de salida son correctos, no obstante, estos no se actualizan cuando corresponde."
   ]
  },
  {
   "cell_type": "markdown",
   "id": "dcf242ae-5755-42d5-acae-1d2267c629cf",
   "metadata": {},
   "source": [
    "A continuación se exponen algunos métodos que permiten una resolución ordenada de estos tipos de errores."
   ]
  },
  {
   "cell_type": "code",
   "execution_count": 1,
   "id": "f6a9fdb3-0a60-44f2-b62d-dbfcf029e3a4",
   "metadata": {},
   "outputs": [
    {
     "data": {
      "text/html": [
       "<div>\n",
       "<style scoped>\n",
       "    .dataframe tbody tr th:only-of-type {\n",
       "        vertical-align: middle;\n",
       "    }\n",
       "\n",
       "    .dataframe tbody tr th {\n",
       "        vertical-align: top;\n",
       "    }\n",
       "\n",
       "    .dataframe thead th {\n",
       "        text-align: right;\n",
       "    }\n",
       "</style>\n",
       "<table border=\"1\" class=\"dataframe\">\n",
       "  <thead>\n",
       "    <tr style=\"text-align: right;\">\n",
       "      <th></th>\n",
       "      <th>ANIO_NACIMIENTO</th>\n",
       "      <th>MES_NACIMIENTO</th>\n",
       "      <th>MES_NACIMIENTOD</th>\n",
       "      <th>DIA_NACIMIENTO</th>\n",
       "      <th>EDAD</th>\n",
       "      <th>ESTADO_CONYUGAL</th>\n",
       "      <th>ESTADO_CONYUGALD</th>\n",
       "      <th>ENTIDAD_RESIDENCIA</th>\n",
       "      <th>ENTIDAD_RESIDENCIAD</th>\n",
       "      <th>MUNICIPIO_RESIDENCIA</th>\n",
       "      <th>...</th>\n",
       "      <th>DIA_REGISTRO</th>\n",
       "      <th>ANIO_CERTIFICACION</th>\n",
       "      <th>MES_CERTIFICACION</th>\n",
       "      <th>MES_CERTIFICACIOND</th>\n",
       "      <th>DIA_CERTIFICACION</th>\n",
       "      <th>ANIO_BASE_DATOS</th>\n",
       "      <th>RAZON_MORTALIDAD_MATERNA</th>\n",
       "      <th>RAZON_MORTALIDAD_MATERNAD</th>\n",
       "      <th>EDAD_QUINQUENAL</th>\n",
       "      <th>EDAD_QUINQUENALD</th>\n",
       "    </tr>\n",
       "  </thead>\n",
       "  <tbody>\n",
       "    <tr>\n",
       "      <th>0</th>\n",
       "      <td>1967</td>\n",
       "      <td>5</td>\n",
       "      <td>MAYO</td>\n",
       "      <td>4</td>\n",
       "      <td>35</td>\n",
       "      <td>1</td>\n",
       "      <td>SOLTERO</td>\n",
       "      <td>16</td>\n",
       "      <td>MICHOACÁN DE OCAMPO</td>\n",
       "      <td>104</td>\n",
       "      <td>...</td>\n",
       "      <td>15</td>\n",
       "      <td>0</td>\n",
       "      <td>0</td>\n",
       "      <td>NO ESPECIFICADO</td>\n",
       "      <td>0</td>\n",
       "      <td>2002</td>\n",
       "      <td>0</td>\n",
       "      <td>MUERTES MATERNAS EXCLUIDAS PARA LA RAZÓN DE MO...</td>\n",
       "      <td>6</td>\n",
       "      <td>35 a 39 años</td>\n",
       "    </tr>\n",
       "    <tr>\n",
       "      <th>1</th>\n",
       "      <td>1965</td>\n",
       "      <td>0</td>\n",
       "      <td>NO ESPECIFICADO</td>\n",
       "      <td>0</td>\n",
       "      <td>37</td>\n",
       "      <td>5</td>\n",
       "      <td>CASADO</td>\n",
       "      <td>20</td>\n",
       "      <td>OAXACA</td>\n",
       "      <td>41</td>\n",
       "      <td>...</td>\n",
       "      <td>9</td>\n",
       "      <td>0</td>\n",
       "      <td>0</td>\n",
       "      <td>NO ESPECIFICADO</td>\n",
       "      <td>0</td>\n",
       "      <td>2002</td>\n",
       "      <td>0</td>\n",
       "      <td>MUERTES MATERNAS EXCLUIDAS PARA LA RAZÓN DE MO...</td>\n",
       "      <td>6</td>\n",
       "      <td>35 a 39 años</td>\n",
       "    </tr>\n",
       "    <tr>\n",
       "      <th>2</th>\n",
       "      <td>1956</td>\n",
       "      <td>2</td>\n",
       "      <td>FEBRERO</td>\n",
       "      <td>4</td>\n",
       "      <td>46</td>\n",
       "      <td>5</td>\n",
       "      <td>CASADO</td>\n",
       "      <td>12</td>\n",
       "      <td>GUERRERO</td>\n",
       "      <td>1</td>\n",
       "      <td>...</td>\n",
       "      <td>2</td>\n",
       "      <td>0</td>\n",
       "      <td>0</td>\n",
       "      <td>NO ESPECIFICADO</td>\n",
       "      <td>0</td>\n",
       "      <td>2002</td>\n",
       "      <td>0</td>\n",
       "      <td>MUERTES MATERNAS EXCLUIDAS PARA LA RAZÓN DE MO...</td>\n",
       "      <td>8</td>\n",
       "      <td>45 a 49 años</td>\n",
       "    </tr>\n",
       "    <tr>\n",
       "      <th>3</th>\n",
       "      <td>1980</td>\n",
       "      <td>9</td>\n",
       "      <td>SEPTIEMBRE</td>\n",
       "      <td>3</td>\n",
       "      <td>22</td>\n",
       "      <td>5</td>\n",
       "      <td>CASADO</td>\n",
       "      <td>28</td>\n",
       "      <td>TAMAULIPAS</td>\n",
       "      <td>38</td>\n",
       "      <td>...</td>\n",
       "      <td>27</td>\n",
       "      <td>0</td>\n",
       "      <td>0</td>\n",
       "      <td>NO ESPECIFICADO</td>\n",
       "      <td>0</td>\n",
       "      <td>2002</td>\n",
       "      <td>0</td>\n",
       "      <td>MUERTES MATERNAS EXCLUIDAS PARA LA RAZÓN DE MO...</td>\n",
       "      <td>3</td>\n",
       "      <td>20 a 24 años</td>\n",
       "    </tr>\n",
       "    <tr>\n",
       "      <th>4</th>\n",
       "      <td>1947</td>\n",
       "      <td>12</td>\n",
       "      <td>DICIEMBRE</td>\n",
       "      <td>20</td>\n",
       "      <td>54</td>\n",
       "      <td>5</td>\n",
       "      <td>CASADO</td>\n",
       "      <td>27</td>\n",
       "      <td>TABASCO</td>\n",
       "      <td>3</td>\n",
       "      <td>...</td>\n",
       "      <td>22</td>\n",
       "      <td>0</td>\n",
       "      <td>0</td>\n",
       "      <td>NO ESPECIFICADO</td>\n",
       "      <td>0</td>\n",
       "      <td>2002</td>\n",
       "      <td>0</td>\n",
       "      <td>MUERTES MATERNAS EXCLUIDAS PARA LA RAZÓN DE MO...</td>\n",
       "      <td>9</td>\n",
       "      <td>50 a 54 años</td>\n",
       "    </tr>\n",
       "  </tbody>\n",
       "</table>\n",
       "<p>5 rows × 58 columns</p>\n",
       "</div>"
      ],
      "text/plain": [
       "   ANIO_NACIMIENTO  MES_NACIMIENTO  MES_NACIMIENTOD  DIA_NACIMIENTO  EDAD  \\\n",
       "0             1967               5             MAYO               4    35   \n",
       "1             1965               0  NO ESPECIFICADO               0    37   \n",
       "2             1956               2          FEBRERO               4    46   \n",
       "3             1980               9       SEPTIEMBRE               3    22   \n",
       "4             1947              12        DICIEMBRE              20    54   \n",
       "\n",
       "   ESTADO_CONYUGAL ESTADO_CONYUGALD  ENTIDAD_RESIDENCIA  ENTIDAD_RESIDENCIAD  \\\n",
       "0                1          SOLTERO                  16  MICHOACÁN DE OCAMPO   \n",
       "1                5           CASADO                  20               OAXACA   \n",
       "2                5           CASADO                  12             GUERRERO   \n",
       "3                5           CASADO                  28           TAMAULIPAS   \n",
       "4                5           CASADO                  27              TABASCO   \n",
       "\n",
       "   MUNICIPIO_RESIDENCIA  ... DIA_REGISTRO  ANIO_CERTIFICACION  \\\n",
       "0                   104  ...           15                   0   \n",
       "1                    41  ...            9                   0   \n",
       "2                     1  ...            2                   0   \n",
       "3                    38  ...           27                   0   \n",
       "4                     3  ...           22                   0   \n",
       "\n",
       "  MES_CERTIFICACION  MES_CERTIFICACIOND DIA_CERTIFICACION  ANIO_BASE_DATOS  \\\n",
       "0                 0     NO ESPECIFICADO                 0             2002   \n",
       "1                 0     NO ESPECIFICADO                 0             2002   \n",
       "2                 0     NO ESPECIFICADO                 0             2002   \n",
       "3                 0     NO ESPECIFICADO                 0             2002   \n",
       "4                 0     NO ESPECIFICADO                 0             2002   \n",
       "\n",
       "  RAZON_MORTALIDAD_MATERNA                          RAZON_MORTALIDAD_MATERNAD  \\\n",
       "0                        0  MUERTES MATERNAS EXCLUIDAS PARA LA RAZÓN DE MO...   \n",
       "1                        0  MUERTES MATERNAS EXCLUIDAS PARA LA RAZÓN DE MO...   \n",
       "2                        0  MUERTES MATERNAS EXCLUIDAS PARA LA RAZÓN DE MO...   \n",
       "3                        0  MUERTES MATERNAS EXCLUIDAS PARA LA RAZÓN DE MO...   \n",
       "4                        0  MUERTES MATERNAS EXCLUIDAS PARA LA RAZÓN DE MO...   \n",
       "\n",
       "  EDAD_QUINQUENAL  EDAD_QUINQUENALD  \n",
       "0               6      35 a 39 años  \n",
       "1               6      35 a 39 años  \n",
       "2               8      45 a 49 años  \n",
       "3               3      20 a 24 años  \n",
       "4               9      50 a 54 años  \n",
       "\n",
       "[5 rows x 58 columns]"
      ]
     },
     "execution_count": 1,
     "metadata": {},
     "output_type": "execute_result"
    }
   ],
   "source": [
    "#Cargar la base de datos de trabajo\n",
    "\n",
    "#Importar bibliotecas requeridas\n",
    "import pandas as pd\n",
    "import numpy as np\n",
    "\n",
    "#Importar el archivo de texto de extensión .csv\n",
    "df = pd.read_csv(\"D:/Documentos/Otros/Aplicaciones/DESI/Muertes_maternas_2002_2021.csv\")\n",
    "\n",
    "#Verificar que el dataset cargó correctamente\n",
    "df.head()"
   ]
  },
  {
   "cell_type": "markdown",
   "id": "1ae33433-5725-4175-8288-282458f5dc6b",
   "metadata": {},
   "source": [
    "## Debugger interactivo"
   ]
  },
  {
   "cell_type": "markdown",
   "id": "08ed1916-c7b8-4770-8525-80902734173b",
   "metadata": {},
   "source": [
    "La herramienta más poderosa para la búsqueda y resolución de errores es el **debugger interactivo**. Un debugger pausa la ejecución del código en **puntos de quiebre** especificados por el usuario, de manera que éste pueda examinar de manera secuencial la implementación del flujo de ejecución y así definir si el modelo mental del programa es consistente con el funcionamiento efectivo del código."
   ]
  },
  {
   "cell_type": "markdown",
   "id": "89945366-0fa8-4a83-aa0c-279a4deaf64f",
   "metadata": {},
   "source": [
    "Para habilitar el debugger interactivo en Jupyter, es necesario ejecutar las siguientes instrucciones en el **Powershell** de Anaconda:\n",
    "\n",
    "- `conda create -n jupyterlab-debugger -c conda-forge jupyterlab=4 “ipykernel>=6” xeus-python`\n",
    "- `conda activate jupyterlab-debugger`\n",
    "- `conda install jupyterlab dask pandas hvplot`\n",
    "- `conda install -c conda-forge condastatsconda install -c conda-forge condastats`\n",
    "- `conda install -c conda-forge jupyter_contrib_nbextensions`"
   ]
  },
  {
   "cell_type": "markdown",
   "id": "6a58db76-9e62-43c5-bd70-445751f488c1",
   "metadata": {},
   "source": [
    "A fin de utilizar el debugger interactivo es necesario especificar un punto de quiebre en el código:"
   ]
  },
  {
   "cell_type": "code",
   "execution_count": 4,
   "id": "28123536-9d2b-4891-897d-6a58535580b9",
   "metadata": {},
   "outputs": [
    {
     "name": "stdout",
     "output_type": "stream",
     "text": [
      "3\n"
     ]
    }
   ],
   "source": [
    "#Definir una función que suma dos elementos\n",
    "def add(a, b):\n",
    "    res = a + b\n",
    "    return res\n",
    "\n",
    "#Llamar a la función\n",
    "result = add(1, 2)\n",
    "print(result)"
   ]
  },
  {
   "cell_type": "markdown",
   "id": "51d4911f-6346-4728-9d68-3acab3632b41",
   "metadata": {},
   "source": [
    "Al iniciar el debugger interactivo de Jupyter, será posible observar **tres paneles**:\n",
    "\n",
    "1. **Variables**: contiene información acerca de las variables que se han asignado en el fragmento de código ejecutado hasta el punto de quiebre. Estas variables pueden encontrarse almacenadas en un entorno local o global.\n",
    "2. **Breakpoints**: contiene información relativa a los puntos de quiebre especificados como parte del ejercicio de debugging. Es posible observar la línea en la que se definió cada punto. Las flechas son utilizadas para las operaciones de **pausar o detener la ejecución**, **saltar al siguiente punto de quiebre** o **avanzar a la línea de código siguiente o retornar a la anterior**.\n",
    "3. **Source**: indica la línea de código que se encuentra en ejecución. Esta información es útil para definir en qué momento del flujo de ejecución se produjo un cambio en las variables del proyecto.\n",
    "\n",
    "El **debugger interactivo** permite examinar de forma detenida el código paso por paso. En el ejemplo anterior, es posible dar cuenta de las variables que se generan en el entorno local de la función `add`, así como la forma en que el valor de retorno de esta función es asignado al objeto de entorno global `result`."
   ]
  },
  {
   "cell_type": "markdown",
   "id": "35dba080-0360-44bf-999b-24ca6622b7b8",
   "metadata": {},
   "source": [
    "El debugger interactivo hace sencillo el análisis de funciones complejas. A continuación se considerará el ejemplo de la función generada como parte del **Segundo reto de programación**:"
   ]
  },
  {
   "cell_type": "code",
   "execution_count": 6,
   "id": "01a20398-57ab-4e12-857b-19defc2a9cbf",
   "metadata": {},
   "outputs": [],
   "source": [
    "#Definir función del reto\n",
    "def gen_ficha():\n",
    "\n",
    "    #Importar bibliotecas requeridas\n",
    "    import pandas as pd\n",
    "\n",
    "    #Filtrar columnas requeridas\n",
    "    df_fl = df.iloc[:, [4, 22, 29, 38]]\n",
    "\n",
    "    #Solicitar al usuario que indique criterios de filtrado\n",
    "    age_min = int(input(\"¿Cuál es la edad mínima de las mujeres que desea conocer? \"))\n",
    "    age_max = int(input(\"¿Cuál es la edad máxima de las mujeres que desea conocer \"))\n",
    "    estado = input(\"Defina el estado de ocurrencia de las defunciones \").upper()\n",
    "    año_df = int(input(\"Defina el año de ocurrencia de las defunciones \"))\n",
    "\n",
    "    #Filtrar datos con base a criterios\n",
    "    df_fl = df_fl[(df_fl.EDAD > age_min) & \n",
    "                  (df_fl.EDAD < age_max) & \n",
    "                  (df_fl.ENTIDAD_OCURRENCIAD == estado) & \n",
    "                  (df_fl.ANIO_DEFUNCION == año_df)]\n",
    "    \n",
    "    #Verificar que haya datos\n",
    "    if df_fl.shape[0] > 0:\n",
    "\n",
    "        #Generar la lista contenedora\n",
    "        ls_co = []\n",
    "\n",
    "        #Definir bucle para la generación de las fichas\n",
    "        for i in range(len(df_fl)):\n",
    "\n",
    "            #Palabras a integrar para la ficha\n",
    "            wds = [\"Registro_\", str(df_fl.index.values[i]), \":\", \n",
    "                   \"Edad:\", str(df_fl.iloc[i,0]), \"/\", \n",
    "                   \"Estado de ocurrencia:\", str(df_fl.iloc[i,1]), \"/\", \n",
    "                   \"Año de ocurrencia:\", str(df_fl.iloc[i,2]), \"/\", \n",
    "                   \"Causa de muerte:\", str(df_fl.iloc[i,3])] \n",
    "\n",
    "            #Pegar todos los valores juntos:\n",
    "            fic = \" \".join(wds)\n",
    "\n",
    "            #Depositar registros en contenedor\n",
    "            ls_co.append(fic) \n",
    "\n",
    "        #Transformar lista en dataframe\n",
    "        df_exp = pd.DataFrame(ls_co, columns = [\"Fichas\"])\n",
    "\n",
    "        #Exportar dataframe como archivo .csv\n",
    "        df_exp.to_csv(\"out_muj_defun.csv\", index = False)\n",
    "        \n",
    "        #Señalar que el dataframe estará en directorio\n",
    "        return print(\"Cantidad de registros encontrados:\", df_exp.shape[0],\n",
    "                     \"\\nEl archivo de excel con las fichas aparecerá en su directorio en unos segundos\")\n",
    "    \n",
    "    #Si no se encontraron registros \n",
    "    else:\n",
    "        print(\"No hay datos para los parámetros especificados\")"
   ]
  },
  {
   "cell_type": "markdown",
   "id": "1d4221cd-d966-4912-83e9-b97c83da0632",
   "metadata": {},
   "source": [
    "A través de la utilización del **debugger interactivo** es posible observar de qué manera se ejecuta cada una de las líneas que integran la función. En concreto, se torna posible observar qué variables son definidas en el entorno local de la función; cómo se evalúan los loops o sentencias condicionales; o cómo se expresan los valores de retorno. "
   ]
  },
  {
   "cell_type": "code",
   "execution_count": null,
   "id": "cdc9c414-f02a-4769-9630-32716adac05c",
   "metadata": {},
   "outputs": [
    {
     "name": "stdin",
     "output_type": "stream",
     "text": [
      "¿Cuál es la edad mínima de las mujeres que desea conocer?  18\n"
     ]
    }
   ],
   "source": [
    "#Ejecutar función generadora de fichas\n",
    "gen_ficha()"
   ]
  },
  {
   "cell_type": "markdown",
   "id": "9cc9f070-276f-41d1-8e23-3ac72b6b8f2e",
   "metadata": {},
   "source": [
    "El uso del debugger interactivo permite evaluar hasta qué punto funciona correctamente una función que entrega errores. A fin de determinar eso, es necesario ejecutar línea por línea la función hasta identificar la porción de código en la que se  originan los errores."
   ]
  },
  {
   "cell_type": "markdown",
   "id": "3c31bd7c-322f-404c-8fe4-a8ad6e128392",
   "metadata": {},
   "source": [
    "## Obtener ayuda"
   ]
  },
  {
   "cell_type": "markdown",
   "id": "7b949a3c-d0a7-47e4-a056-bcda414f1e60",
   "metadata": {},
   "source": [
    "Si la lectura del **traceback** o el uso del **debugger interactivo** no han sido suficientes para solucionar un problema, es posible recurrir al uso de herramientas de inteligencia artificial o a foros de programadores a fin de solicitar ayuda. \n",
    "\n",
    "Dicho esto, a fin de plantear una solicitud de ayuda coherente y fácil de entender, es necesario incluir un ejemplo reproducible del código trabajado (***reproducible example*** o **Reprex**). El objetivo del reprex es proveer la pieza mínima de código que ilustre el problema y pueda ser ejecutada en otra computadora sin demasiados requisitos.\n",
    "\n",
    "Generar un **reprex** es un acto vital en tanto que captura los elementos esenciales de un problema de forma tal que cualquier individuo puede obtener **el mismo error** al momento de ejecutar el código para luego plantear una solución."
   ]
  },
  {
   "cell_type": "markdown",
   "id": "e12c593f-786c-4cb5-a30e-25cc04797e4d",
   "metadata": {},
   "source": [
    "A fin de generar un buen reprex es necesario evaluar los supuestos integrados en el código; al eliminarlo, será posible que cualquier usuario ejecute el código con tan sólo copiar y pegar el código.\n",
    "\n",
    "**¿Qué supuestos están implícitos en la función generadora de fichas?**\n",
    "\n",
    "En primera instancia, que la persona tiene disponible el dataset de *Muertes maternas*"
   ]
  },
  {
   "cell_type": "code",
   "execution_count": 20,
   "id": "fdf390c0-1fdb-4a79-90ec-da0607306cc7",
   "metadata": {},
   "outputs": [
    {
     "data": {
      "text/html": [
       "<div>\n",
       "<style scoped>\n",
       "    .dataframe tbody tr th:only-of-type {\n",
       "        vertical-align: middle;\n",
       "    }\n",
       "\n",
       "    .dataframe tbody tr th {\n",
       "        vertical-align: top;\n",
       "    }\n",
       "\n",
       "    .dataframe thead th {\n",
       "        text-align: right;\n",
       "    }\n",
       "</style>\n",
       "<table border=\"1\" class=\"dataframe\">\n",
       "  <thead>\n",
       "    <tr style=\"text-align: right;\">\n",
       "      <th></th>\n",
       "      <th>col1</th>\n",
       "      <th>col2</th>\n",
       "      <th>col3</th>\n",
       "      <th>col4</th>\n",
       "    </tr>\n",
       "  </thead>\n",
       "  <tbody>\n",
       "    <tr>\n",
       "      <th>0</th>\n",
       "      <td>18</td>\n",
       "      <td>JALISCO</td>\n",
       "      <td>Sangrado</td>\n",
       "      <td>2006</td>\n",
       "    </tr>\n",
       "    <tr>\n",
       "      <th>1</th>\n",
       "      <td>19</td>\n",
       "      <td>JALISCO</td>\n",
       "      <td>Sangrado</td>\n",
       "      <td>2006</td>\n",
       "    </tr>\n",
       "    <tr>\n",
       "      <th>2</th>\n",
       "      <td>20</td>\n",
       "      <td>PUEBLA</td>\n",
       "      <td>Sangrado</td>\n",
       "      <td>2006</td>\n",
       "    </tr>\n",
       "    <tr>\n",
       "      <th>3</th>\n",
       "      <td>21</td>\n",
       "      <td>VERACRUZ</td>\n",
       "      <td>Sangrado</td>\n",
       "      <td>2008</td>\n",
       "    </tr>\n",
       "    <tr>\n",
       "      <th>4</th>\n",
       "      <td>22</td>\n",
       "      <td>JALISCO</td>\n",
       "      <td>Sangrado</td>\n",
       "      <td>2006</td>\n",
       "    </tr>\n",
       "  </tbody>\n",
       "</table>\n",
       "</div>"
      ],
      "text/plain": [
       "   col1      col2      col3  col4\n",
       "0    18   JALISCO  Sangrado  2006\n",
       "1    19   JALISCO  Sangrado  2006\n",
       "2    20    PUEBLA  Sangrado  2006\n",
       "3    21  VERACRUZ  Sangrado  2008\n",
       "4    22   JALISCO  Sangrado  2006"
      ]
     },
     "execution_count": 20,
     "metadata": {},
     "output_type": "execute_result"
    }
   ],
   "source": [
    "#Generar datos de prueba\n",
    "test = {'col1': [18, 19, 20, 21, 22, 23, 24, 25],\n",
    "        'col2': ['JALISCO', 'JALISCO', 'PUEBLA', 'VERACRUZ', 'JALISCO', 'YUCATÁN', 'OAXACA', 'PUEBLA'],\n",
    "        'col3': ['Sangrado', 'Sangrado', 'Sangrado', 'Sangrado', 'Sangrado', 'Sangrado', 'Sangrado', 'Sangrado'],\n",
    "        'col4': [2006, 2006, 2006, 2008, 2006, 2007, 2008, 2006]}\n",
    "\n",
    "#Convertir en un dataframe\n",
    "test = pd.DataFrame(test)\n",
    "test.head()"
   ]
  },
  {
   "cell_type": "markdown",
   "id": "7c5417b6-11bc-4e87-a028-8950d8efe1a0",
   "metadata": {},
   "source": [
    "A fin de que la persona que responda pueda ejecutar fácilmente el código es recomendable incluir datos de prueba que puedan ser utilizados de manera expédita por la función.\n",
    "\n",
    "**¿Qué otro supuesto está inserto en la función generadora de fichas?**\n",
    "Que la persona necesita usar los mismos nombres de variables especificados en el dataset de *Muertes maternas*"
   ]
  },
  {
   "cell_type": "code",
   "execution_count": null,
   "id": "d488474f-12a8-4488-b6bb-1a6114cb099b",
   "metadata": {},
   "outputs": [],
   "source": [
    "#Filtrar datos con base a criterios\n",
    "test = test[(test.col1 > age_min) & \n",
    "              (test.col1 < age_max) & \n",
    "              (test.col2 == estado) & \n",
    "              (test.col3 == año_df)]"
   ]
  },
  {
   "cell_type": "markdown",
   "id": "059be6b2-49b3-4327-a231-9e312be9c315",
   "metadata": {},
   "source": [
    "Un aspecto adicional que facilita la comprensión de un **reprex** es la eliminación del código que no es fundamental para la generación de los valores de retorno esperados. \n",
    "\n",
    "Si la eliminación del **código redundante** hizo posible obtener los valores de retorno correctos, entonces el problema se encontraba en ese aspecto de la función; de lo contrario, eliminarlo no obstaculizará el análisis por  parte de terceros."
   ]
  },
  {
   "cell_type": "code",
   "execution_count": null,
   "id": "c8eacc0a-b2c3-4d82-b413-20997a04fd00",
   "metadata": {},
   "outputs": [],
   "source": [
    "#Importar bibliotecas requeridas\n",
    "import pandas as pd\n",
    "\n",
    "#Solicitar al usuario que indique criterios de filtrado\n",
    "age_min = int(input(\"¿Cuál es la edad mínima de las mujeres que desea conocer? \"))\n",
    "age_max = int(input(\"¿Cuál es la edad máxima de las mujeres que desea conocer \"))\n",
    "estado = input(\"Defina el estado de ocurrencia de las defunciones \").upper()\n",
    "año_df = int(input(\"Defina el año de ocurrencia de las defunciones \"))\n",
    "\n",
    "#Filtrar datos con base a criterios\n",
    "test = test[(test.col1 > age_min) & \n",
    "              (test.col1 < age_max) & \n",
    "              (test.col2 == estado) & \n",
    "              (test.col3 == año_df)]\n",
    "\n",
    "#Generar la lista contenedora\n",
    "ls_co = []\n",
    "\n",
    "#Definir bucle para la generación de las fichas\n",
    "for i in range(len(test)):\n",
    "        \n",
    "    #Palabras a integrar para la ficha\n",
    "    wds = [\"Registro_\", str(test.index.values[i]), \":\", \n",
    "               \"Edad:\", str(test.iloc[i,0]), \"/\", \n",
    "               \"Estado de ocurrencia:\", str(test.iloc[i,1]), \"/\", \n",
    "               \"Año de ocurrencia:\", str(test.iloc[i,2]), \"/\", \n",
    "               \"Causa de muerte:\", str(test.iloc[i,3])] \n",
    "\n",
    "    #Pegar todos los valores juntos:\n",
    "    fic = \" \".join(wds)\n",
    "\n",
    "    #Depositar registros en contenedor\n",
    "    ls_co.append(fic) \n",
    "\n",
    "#Transformar lista en dataframe\n",
    "df_exp = pd.DataFrame(ls_co, columns = [\"Fichas\"])"
   ]
  },
  {
   "cell_type": "markdown",
   "id": "c7f72041-ad09-4830-92a0-d322231e1c65",
   "metadata": {},
   "source": [
    "Al integrar todo el **código libre de excepciones** y los elementos de apoyo se genera un **reprex** que puede ser publicado en un foro dirigido a proveer apoyo en soluciones de programación:"
   ]
  },
  {
   "cell_type": "code",
   "execution_count": 23,
   "id": "32938f8f-f902-4443-8a50-f85f1a779988",
   "metadata": {},
   "outputs": [
    {
     "name": "stdin",
     "output_type": "stream",
     "text": [
      "¿Cuál es la edad mínima de las mujeres que desea conocer?  18\n",
      "¿Cuál es la edad máxima de las mujeres que desea conocer  23\n",
      "Defina el estado de ocurrencia de las defunciones  jalisco\n",
      "Defina el año de ocurrencia de las defunciones  2006\n"
     ]
    },
    {
     "data": {
      "text/html": [
       "<div>\n",
       "<style scoped>\n",
       "    .dataframe tbody tr th:only-of-type {\n",
       "        vertical-align: middle;\n",
       "    }\n",
       "\n",
       "    .dataframe tbody tr th {\n",
       "        vertical-align: top;\n",
       "    }\n",
       "\n",
       "    .dataframe thead th {\n",
       "        text-align: right;\n",
       "    }\n",
       "</style>\n",
       "<table border=\"1\" class=\"dataframe\">\n",
       "  <thead>\n",
       "    <tr style=\"text-align: right;\">\n",
       "      <th></th>\n",
       "      <th>Fichas</th>\n",
       "    </tr>\n",
       "  </thead>\n",
       "  <tbody>\n",
       "  </tbody>\n",
       "</table>\n",
       "</div>"
      ],
      "text/plain": [
       "Empty DataFrame\n",
       "Columns: [Fichas]\n",
       "Index: []"
      ]
     },
     "execution_count": 23,
     "metadata": {},
     "output_type": "execute_result"
    }
   ],
   "source": [
    "#Generar datos de prueba\n",
    "test = {'col1': [18, 19, 20, 21, 22, 23, 24, 25],\n",
    "        'col2': ['JALISCO', 'JALISCO', 'PUEBLA', 'VERACRUZ', 'JALISCO', 'YUCATÁN', 'OAXACA', 'PUEBLA'],\n",
    "        'col3': ['Sangrado', 'Sangrado', 'Sangrado', 'Sangrado', 'Sangrado', 'Sangrado', 'Sangrado', 'Sangrado'],\n",
    "        'col4': [2006, 2006, 2006, 2008, 2006, 2007, 2008, 2006]}\n",
    "\n",
    "#Convertir en un dataframe\n",
    "test = pd.DataFrame(test)\n",
    "\n",
    "#Importar bibliotecas requeridas\n",
    "import pandas as pd\n",
    "\n",
    "#Solicitar al usuario que indique criterios de filtrado\n",
    "age_min = int(input(\"¿Cuál es la edad mínima de las mujeres que desea conocer? \"))\n",
    "age_max = int(input(\"¿Cuál es la edad máxima de las mujeres que desea conocer \"))\n",
    "estado = input(\"Defina el estado de ocurrencia de las defunciones \").upper()\n",
    "año_df = int(input(\"Defina el año de ocurrencia de las defunciones \"))\n",
    "\n",
    "#Filtrar datos con base a criterios\n",
    "test = test[(test.col1 > age_min) & \n",
    "              (test.col1 < age_max) & \n",
    "              (test.col2 == estado) & \n",
    "              (test.col3 == año_df)]\n",
    "\n",
    "#Generar la lista contenedora\n",
    "ls_co = []\n",
    "\n",
    "#Definir bucle para la generación de las fichas\n",
    "for i in range(len(test)):\n",
    "        \n",
    "    #Palabras a integrar para la ficha\n",
    "    wds = [\"Registro_\", str(test.index.values[i]), \":\", \n",
    "               \"Edad:\", str(test.iloc[i,0]), \"/\", \n",
    "               \"Estado de ocurrencia:\", str(test.iloc[i,1]), \"/\", \n",
    "               \"Año de ocurrencia:\", str(test.iloc[i,2]), \"/\", \n",
    "               \"Causa de muerte:\", str(test.iloc[i,3])] \n",
    "\n",
    "    #Pegar todos los valores juntos:\n",
    "    fic = \" \".join(wds)\n",
    "\n",
    "    #Depositar registros en contenedor\n",
    "    ls_co.append(fic) \n",
    "\n",
    "#Transformar lista en dataframe\n",
    "df_exp = pd.DataFrame(ls_co, columns = [\"Fichas\"])\n",
    "\n",
    "#Visualizar resultados\n",
    "df_exp.head()"
   ]
  },
  {
   "cell_type": "markdown",
   "id": "d46a0a1f-6a04-4df7-b492-44483a5d0a38",
   "metadata": {},
   "source": [
    "Generar un reprex es un paso muy importante para obtener el apoyo de un tercero dado que le permite recrear el problema. La depuración del código permite generar un **ejemplo minímo reproducible**. Esta aproximación al problema permitirá a un individuo con más experiencia encontrar una solución al problema observado."
   ]
  }
 ],
 "metadata": {
  "kernelspec": {
   "display_name": "Python 3 (ipykernel)",
   "language": "python",
   "name": "python3"
  },
  "language_info": {
   "codemirror_mode": {
    "name": "ipython",
    "version": 3
   },
   "file_extension": ".py",
   "mimetype": "text/x-python",
   "name": "python",
   "nbconvert_exporter": "python",
   "pygments_lexer": "ipython3",
   "version": "3.11.5"
  }
 },
 "nbformat": 4,
 "nbformat_minor": 5
}
