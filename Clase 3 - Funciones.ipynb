{
 "cells": [
  {
   "cell_type": "markdown",
   "id": "aa9f937e",
   "metadata": {},
   "source": [
    "### ¿Qué son las funciones?"
   ]
  },
  {
   "cell_type": "markdown",
   "id": "6d2a6152",
   "metadata": {},
   "source": [
    "En el contexto de la programación, el concepto de **función** hace referencia a un conjunto ordenado de instrucciones (*statements*) que tiene como objetivo la ejecución de una tarea. Existen dos tipos de funciones en Python, aquellas que son definidas por el propio usuario como parte de la **sesión de trabajo** o aquellas que están incluidas en módulos o bibliotecas externas."
   ]
  },
  {
   "cell_type": "markdown",
   "id": "84badeca",
   "metadata": {},
   "source": [
    "La acción de ejecutar una función se conoce como **llamar a la función** (*Call a function*). Para hacerlo, es importante proveer a la función con los datos que requiere para la ejecución de la tarea deseada."
   ]
  },
  {
   "cell_type": "code",
   "execution_count": 2,
   "id": "66d0f68b",
   "metadata": {},
   "outputs": [
    {
     "name": "stdout",
     "output_type": "stream",
     "text": [
      "<class 'int'>\n",
      "<class 'str'>\n"
     ]
    }
   ],
   "source": [
    "#Llamar a la función type para determinar el tipo de objeto\n",
    "print(type(800))\n",
    "\n",
    "#Llamar a la función type para determinar el tipo de objeto\n",
    "print(type(\"univers\"))"
   ]
  },
  {
   "cell_type": "markdown",
   "id": "ee14debf",
   "metadata": {},
   "source": [
    "Para su ejecución, una función demandará la provisión de un ***argumento*** (`argument`) que servirá como input para la ejecución de operaciones. Una vez terminada la ejecución, la función retornará un ***valor de salida*** (*return value*) que contendrá los resultados derivados de la operación. Para conocer la lista de argumentos que es necesario proveer a la función, es necesario leer la **documentación** de la función; misma que contiene la lista de ***parámetros*** que es necesario proveer de modo que la ejecución sea correcta."
   ]
  },
  {
   "cell_type": "markdown",
   "id": "d9dab3fc",
   "metadata": {},
   "source": [
    "### Funciones externas"
   ]
  },
  {
   "cell_type": "markdown",
   "id": "1f8eb7cf",
   "metadata": {},
   "source": [
    "Es posible utilizar funciones generadas por terceros para la ejecución de una gran variedad de tareas. Python cuenta con una serie de bibliotecas *de base* que acompañan a la instalación original del programa. A fin de poder usar estas funciones, es necesario importar a la biblioteca que las contiene a la sesión de trabajo a través de una **instrucción de importación**: "
   ]
  },
  {
   "cell_type": "code",
   "execution_count": 3,
   "id": "95c07254",
   "metadata": {},
   "outputs": [],
   "source": [
    "#Vamos a importar a la biblioteca 'math'\n",
    "import math"
   ]
  },
  {
   "cell_type": "markdown",
   "id": "b7870cac",
   "metadata": {},
   "source": [
    "Al ejecutar este código las funciones de `math` son importadas a la memoria de trabajo, por lo que se encuentran disponibles para ser utilizadas en la sesión. Para llamar a una función interna es necesario indicar la biblioteca de la que precede. "
   ]
  },
  {
   "cell_type": "code",
   "execution_count": 4,
   "id": "86d301f9",
   "metadata": {},
   "outputs": [
    {
     "data": {
      "text/plain": [
       "8.0"
      ]
     },
     "execution_count": 4,
     "metadata": {},
     "output_type": "execute_result"
    }
   ],
   "source": [
    "#Definir una variable numérica\n",
    "x = 64\n",
    "\n",
    "#Calcular la raíz cuadrada de la variable 'x'\n",
    "math.sqrt(x)"
   ]
  },
  {
   "cell_type": "markdown",
   "id": "95e7abfa",
   "metadata": {},
   "source": [
    "Es posible utilizar funciones como argumentos para la ejecución de otras funciones. Este proceso es conocido como **composición** y hace más rápida y *eficiente* la ejecución del código."
   ]
  },
  {
   "cell_type": "code",
   "execution_count": 2,
   "id": "0a8b2732",
   "metadata": {},
   "outputs": [
    {
     "name": "stdout",
     "output_type": "stream",
     "text": [
      "¿Cuál es tu edad? 20\n",
      "40\n"
     ]
    }
   ],
   "source": [
    "#Importar la biblioteca 'numpy'\n",
    "import numpy as np\n",
    "\n",
    "#Ejecución anidada de funciones\n",
    "print(np.prod([int(input('¿Cuál es tu edad? ')), 2]))"
   ]
  },
  {
   "cell_type": "markdown",
   "id": "c7fa5459",
   "metadata": {},
   "source": [
    "La segunda línea del bloque anterior de código ejecuta las siguientes funciones: `print, prod, int` e `input`. El objetivo de esta instrucción es retornar, como valor de salida, el cálculo del *doble* de la edad del usuario. \n",
    "\n",
    "Para hacerlo, utiliza la función `input` para solicitar al usuario que introduzca su edad. La función `int` para convertir este valor a un objeto de tipo `integer`. La función `prod` de la biblioteca `numpy` para multiplicar la edad por dos y la función `print` para retornar el valor de salida en la pantalla del usuario. "
   ]
  },
  {
   "cell_type": "markdown",
   "id": "499b67f5",
   "metadata": {},
   "source": [
    "Otra forma de representar este proceso es a través del siguiente flujo de trabajo: "
   ]
  },
  {
   "cell_type": "code",
   "execution_count": null,
   "id": "f3d79a87",
   "metadata": {},
   "outputs": [],
   "source": [
    "#Solicitar la introducción de la edad\n",
    "age = input('¿Cuál es tu edad? ')\n",
    "\n",
    "#Convertir la edad a un objeto de tipo integer\n",
    "age = int(age)\n",
    "\n",
    "#Multiplicar la edad por dos \n",
    "dage = np.prod([age, 2])\n",
    "\n",
    "#Imprimir el valor final\n",
    "print(dage)"
   ]
  },
  {
   "cell_type": "markdown",
   "id": "779feeb7",
   "metadata": {},
   "source": [
    "La elección de qué estrategia de representación seguir depende de los recursos computacionales disponibles y de las características del flujo de trabajo."
   ]
  },
  {
   "cell_type": "markdown",
   "id": "60eeabf1",
   "metadata": {},
   "source": [
    "### Funciones internas"
   ]
  },
  {
   "cell_type": "markdown",
   "id": "e2cf1b7a",
   "metadata": {},
   "source": [
    "En ocasiones surje la necesidad de repetir una tarea muy específica en múltiples ocasiones a lo largo de un proyecto. Sin embargo, por su **especificidad** no existe una función externa que pueda ejecutar el trabajo. En estos casos, es necesario generar una **función interna** que haga posible repetir la tarea sin tener que repetir el código una y otra vez. "
   ]
  },
  {
   "cell_type": "markdown",
   "id": "c962b7fc",
   "metadata": {},
   "source": [
    "La **definición de una función interna** requiere que el usuario especifique los parámetros que requerirá la nueva función, así como tener una idea clara del valor de salida que se desea. Por otro lado, es fundamental tener claridad en torno del conjunto de pasos (*instrucciones*) que habrá que seguir a fin de producir el resultado deseado."
   ]
  },
  {
   "cell_type": "markdown",
   "id": "5ec8db92",
   "metadata": {},
   "source": [
    "La definición de un función comienza con el uso de la palabra reservada `def`:"
   ]
  },
  {
   "cell_type": "code",
   "execution_count": 7,
   "id": "41fe79bb",
   "metadata": {},
   "outputs": [
    {
     "name": "stdout",
     "output_type": "stream",
     "text": [
      "Gato\n",
      "Gato\n"
     ]
    }
   ],
   "source": [
    "#Definir una función que repite una palabra dos veces\n",
    "\n",
    "#Header de la función\n",
    "def word_repeater(word):\n",
    "    #Cuerpo de la función\n",
    "    print(word)\n",
    "    print(word)\n",
    "    \n",
    "#Llamar a la función \n",
    "word_repeater(\"Gato\")"
   ]
  },
  {
   "cell_type": "markdown",
   "id": "6dd6f505",
   "metadata": {},
   "source": [
    "La primera línea de la función, que empieza por `def` y termina con dos puntos, es el `header` de la función; aquí se define el nombre de la nueva función interna y, al interior de los paréntesis, los parámetros que requiere para su ejecución. La parte que sigue es el `body` de la función y contiene el conjunto de instrucciones que se seguirá a fin de obtener el valor de salida.  "
   ]
  },
  {
   "cell_type": "markdown",
   "id": "67552e7c",
   "metadata": {},
   "source": [
    "La función `word_repeater` tiene por objetivo repetir dos veces la palabra que es provista como argumento para el parámetro `word`. Como tal, el valor de salida esperado es la misma palabra repetida dos veces."
   ]
  },
  {
   "cell_type": "markdown",
   "id": "41a2ac2f",
   "metadata": {},
   "source": [
    "Es posible llamar a otras funciones, internas o externas, como parte de la definición de una nueva función interna. Las funciones que son incorporadas al cuerpo de la nueva función serán llamadas como parte del flujo de ejecución (**flow of execution**):"
   ]
  },
  {
   "cell_type": "code",
   "execution_count": 10,
   "id": "b64cda7d",
   "metadata": {},
   "outputs": [
    {
     "name": "stdout",
     "output_type": "stream",
     "text": [
      "52\n",
      "52\n",
      "90\n",
      "90\n",
      "170\n",
      "170\n"
     ]
    }
   ],
   "source": [
    "#Vamos a definir la función para duplicar la edad que usamos anteriormente\n",
    "\n",
    "def age_doub(age):\n",
    "    #Solicitar la introducción de la edad\n",
    "    #age = input('¿Cuál es tu edad? ')\n",
    "    #Convertir la edad a un objeto de tipo integer\n",
    "    age = int(age)\n",
    "    #Multiplicar la edad por dos \n",
    "    fdage = np.prod([age, 2])\n",
    "    #Imprimir el valor final\n",
    "    word_repeater(fdage)\n",
    "\n",
    "#Ejecutar la función para duplicar  la edad\n",
    "age_doub(26)\n",
    "age_doub(45)\n",
    "age_doub(85)"
   ]
  },
  {
   "cell_type": "markdown",
   "id": "6d009f27",
   "metadata": {},
   "source": [
    "Al flujo de trabajo utilizado anteriormente para obtener el doble de la edad del usuario se le adicionó la función `word_repeater` a fin de repetir dos veces la edad calculada. En este caso, no fue necesario definir parámetros para la función age_doub dado que ésta solicita directamente al usuario la introducción de la edad a través de la función `input`. "
   ]
  },
  {
   "cell_type": "markdown",
   "id": "c16f66b6",
   "metadata": {},
   "source": [
    "### Uso de memoria en las funciones"
   ]
  },
  {
   "cell_type": "markdown",
   "id": "2393d63f",
   "metadata": {},
   "source": [
    "Al definir una función interna ésta pasa a ocupar espacio en la memoria de trabajo de la sesión bajo la forma de un objeto de tipo `function`"
   ]
  },
  {
   "cell_type": "code",
   "execution_count": 15,
   "id": "948b5dec",
   "metadata": {},
   "outputs": [
    {
     "data": {
      "text/plain": [
       "function"
      ]
     },
     "execution_count": 15,
     "metadata": {},
     "output_type": "execute_result"
    }
   ],
   "source": [
    "#Verificar el tipo de objeto de la función 'age_doub'\n",
    "type(age_doub)"
   ]
  },
  {
   "cell_type": "markdown",
   "id": "d0dccd89",
   "metadata": {},
   "source": [
    "Por otro lado, es importante considerar que las variables que se definen al interior del cuerpo (*body*) de una función únicamente existirán en la memoria durante la ejecución de la función, posteriormente son eliminadas. En este sentido, se dice que son `locales` de la función y no de la sesión principal de trabajo (a la que se conoce como `_main_`). "
   ]
  },
  {
   "cell_type": "code",
   "execution_count": 17,
   "id": "c0714029",
   "metadata": {},
   "outputs": [
    {
     "name": "stdout",
     "output_type": "stream",
     "text": [
      "¿Cuál es tu edad? 18\n",
      "36\n",
      "36\n"
     ]
    }
   ],
   "source": [
    "#Ejecutar nuevamente la función de duplicación de la edad\n",
    "age_doub()"
   ]
  },
  {
   "cell_type": "markdown",
   "id": "c2d3edf3",
   "metadata": {},
   "source": [
    "Al verificar la existencia de la variable `fdage`, definida en el cuerpo de la función `age_doub`, se obtienen los siguientes resultados:"
   ]
  },
  {
   "cell_type": "code",
   "execution_count": 19,
   "id": "191563a8",
   "metadata": {},
   "outputs": [
    {
     "ename": "NameError",
     "evalue": "name 'fdage' is not defined",
     "output_type": "error",
     "traceback": [
      "\u001b[1;31m---------------------------------------------------------------------------\u001b[0m",
      "\u001b[1;31mNameError\u001b[0m                                 Traceback (most recent call last)",
      "Cell \u001b[1;32mIn[19], line 2\u001b[0m\n\u001b[0;32m      1\u001b[0m \u001b[38;5;66;03m#Imprimir variable deseada\u001b[39;00m\n\u001b[1;32m----> 2\u001b[0m \u001b[38;5;28mprint\u001b[39m(fdage)\n",
      "\u001b[1;31mNameError\u001b[0m: name 'fdage' is not defined"
     ]
    }
   ],
   "source": [
    "#Imprimir variable deseada\n",
    "print(fdage)"
   ]
  },
  {
   "cell_type": "markdown",
   "id": "089ddf67",
   "metadata": {},
   "source": [
    "### Ejercicio de tarea"
   ]
  },
  {
   "cell_type": "markdown",
   "id": "e1e80fd7-68b2-445d-a52c-fd274d619053",
   "metadata": {},
   "source": [
    "Suponga que usted es el encargado de análisis de datos de una oficina y entre sus tareas se encuentra enviar un pastel de cumpleaños virtual a las personas que cumplen años. Genere una función en Python que imprima un pastel virtual que contenga una cantidad de velas equivalente a la cantidad de años cumplidos por la persona cumpleañera. Esta función debe cumplir con las siguientes condiciones:\n",
    "\n",
    "- Debe poder ser utilizada por cualquier persona, sin importar la cantidad de años cumplidos\n",
    "- Debe preguntar a la persona cumpleañera por su edad\n",
    "- El cuerpo de la función debe estar adecuadamente comentado"
   ]
  },
  {
   "cell_type": "code",
   "execution_count": 24,
   "id": "eed95152",
   "metadata": {},
   "outputs": [
    {
     "name": "stdout",
     "output_type": "stream",
     "text": [
      "¿Cuántos años cumples? 27\n",
      "vela, vela, vela, vela, vela, vela, vela, vela, vela, vela, vela, vela, vela, vela, vela, vela, vela, vela, vela, vela, vela, vela, vela, vela, vela, vela, vela, \n"
     ]
    }
   ],
   "source": [
    "#Función de cumpleaños\n",
    "\n",
    "def happy_bday():\n",
    "    #Solicitar al usuario que comparta su edad\n",
    "    age = input('¿Cuántos años cumples? ')\n",
    "    #Convertir la edad a un objeto integer\n",
    "    age = int(age)\n",
    "    #Imprimir la palabra 'vela' múltiples veces\n",
    "    print(\"vela, \"*age)\n",
    "    \n",
    "#Ejecutar la función\n",
    "happy_bday()"
   ]
  }
 ],
 "metadata": {
  "kernelspec": {
   "display_name": "Python 3 (ipykernel)",
   "language": "python",
   "name": "python3"
  },
  "language_info": {
   "codemirror_mode": {
    "name": "ipython",
    "version": 3
   },
   "file_extension": ".py",
   "mimetype": "text/x-python",
   "name": "python",
   "nbconvert_exporter": "python",
   "pygments_lexer": "ipython3",
   "version": "3.11.5"
  }
 },
 "nbformat": 4,
 "nbformat_minor": 5
}
