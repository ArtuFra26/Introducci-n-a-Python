{
 "cells": [
  {
   "cell_type": "markdown",
   "id": "0637df08",
   "metadata": {},
   "source": [
    "### Uso de memoria"
   ]
  },
  {
   "cell_type": "markdown",
   "id": "6e03767b",
   "metadata": {},
   "source": [
    "Un programa necesita un medio de grabar los datos que usa (*inputs*). Las **variables** y **constantes** son la plataforma mediante la que se representan y manipulan los datos que utilice el programa."
   ]
  },
  {
   "cell_type": "code",
   "execution_count": 1,
   "id": "42b8d05c",
   "metadata": {},
   "outputs": [],
   "source": [
    "#Texto simple\n",
    "Nombre_var = 5"
   ]
  },
  {
   "cell_type": "code",
   "execution_count": 2,
   "id": "cae7297a",
   "metadata": {},
   "outputs": [
    {
     "name": "stdout",
     "output_type": "stream",
     "text": [
      "5\n",
      "30\n"
     ]
    }
   ],
   "source": [
    "#Definición de una constante\n",
    "x = 5\n",
    "\n",
    "#Definición de una variable\n",
    "import numpy as np \n",
    "y = np.random.randint(0,100)\n",
    "\n",
    "#Imprimir la constante y la variable\n",
    "print(x)\n",
    "print(y)"
   ]
  },
  {
   "cell_type": "markdown",
   "id": "363db940",
   "metadata": {},
   "source": [
    "Una **variable** es una espacio para guardar información. En concreto, es una ubicación en la **memoria principal** de la computadora en la que es posible depositar información para recuperarla después."
   ]
  },
  {
   "cell_type": "markdown",
   "id": "2e23351e",
   "metadata": {},
   "source": [
    "Cada programa se carga en la memoria principal antes de ejecutarse. La memoria puede ser vista como un conjunto de **casillas** llamadas *bytes*. Cada casilla cuenta con una etiqueta única que la identifica. Una **variable** reserva una o más casillas en la cual es posible grabar datos. "
   ]
  },
  {
   "cell_type": "markdown",
   "id": "9dd9a255",
   "metadata": {},
   "source": [
    "![alternative text](https://2.bp.blogspot.com/-KnzUk_u5eJY/ToX0yMkwAcI/AAAAAAAAEbY/IdH1vgoTJ5U/s1600/cuadricula_115.jpeg)"
   ]
  },
  {
   "cell_type": "markdown",
   "id": "8915be67",
   "metadata": {},
   "source": [
    "Algunas casillas almacenan el **código** del programa, mientras que otras contienen los datos asociados a la ejecución del programa.Al ejecutar un comando, el procesador *toma datos de algunas celdas*, para luego implementar la operación y finalmente *enviar el resultado a otras celdas*. "
   ]
  },
  {
   "cell_type": "markdown",
   "id": "4cbf7b9f",
   "metadata": {},
   "source": [
    "Al **definir una variable** en el código, se le asigna un espacio de la memoria que aún no se ha utilizado. La cantidad de casillas que tomará la variable depende del tipo de información que se busca incorporar."
   ]
  },
  {
   "cell_type": "code",
   "execution_count": 5,
   "id": "00044a5e",
   "metadata": {},
   "outputs": [
    {
     "name": "stdout",
     "output_type": "stream",
     "text": [
      "Josman\n"
     ]
    }
   ],
   "source": [
    "#Definición de una variable de texto\n",
    "z = \"Josman\"\n",
    "\n",
    "#Imprimir la variable de texto\n",
    "print(z)"
   ]
  },
  {
   "cell_type": "markdown",
   "id": "b95fb781",
   "metadata": {},
   "source": [
    "### Variables en memoria"
   ]
  },
  {
   "cell_type": "markdown",
   "id": "2ad4b0a3",
   "metadata": {},
   "source": [
    "Python es un *lenguaje orientado a objetos* por lo que no es necesario reservar manualmente el espacio en memoria de cada variable o declarar su tipo a priori. Cada variable en Python es un **objeto**."
   ]
  },
  {
   "cell_type": "markdown",
   "id": "3e7f2b81",
   "metadata": {},
   "source": [
    "En Python existen múltiples tipos de variables. El tipo de variable es asignado por el procesador al momento de incorporar los datos en el código; no obstante, es posible alterar manualmente esta primera asignación."
   ]
  },
  {
   "cell_type": "markdown",
   "id": "046f1e74",
   "metadata": {},
   "source": [
    "- **Variables númericas**: Python admite dos clases de variable numérica. Las variables `integer` que contienen números enteros y las variables `float` que contienen números con puntos decimales."
   ]
  },
  {
   "cell_type": "code",
   "execution_count": 3,
   "id": "22095e5b",
   "metadata": {},
   "outputs": [
    {
     "name": "stdout",
     "output_type": "stream",
     "text": [
      "<class 'int'>\n",
      "6\n"
     ]
    }
   ],
   "source": [
    "#Definición de una variable integer \n",
    "var_int = 4\n",
    "var_int = 6\n",
    "\n",
    "#Verificar tipo de variable\n",
    "print(type(var_int))\n",
    "\n",
    "#Imprimir variables\n",
    "print(var_int)"
   ]
  },
  {
   "cell_type": "code",
   "execution_count": 12,
   "id": "a849e877",
   "metadata": {},
   "outputs": [
    {
     "name": "stdout",
     "output_type": "stream",
     "text": [
      "<class 'float'>\n"
     ]
    }
   ],
   "source": [
    "#Definición de una variable float\n",
    "myfloat = 4.5\n",
    "\n",
    "#Verificar tipo de variable\n",
    "print(type(myfloat))"
   ]
  },
  {
   "cell_type": "markdown",
   "id": "65bf12bb",
   "metadata": {},
   "source": [
    "- **Variables de texto *(strings)***: Las variables `string` son cadenas de texto plano. "
   ]
  },
  {
   "cell_type": "code",
   "execution_count": 13,
   "id": "214308c1",
   "metadata": {},
   "outputs": [
    {
     "name": "stdout",
     "output_type": "stream",
     "text": [
      "<class 'str'>\n"
     ]
    }
   ],
   "source": [
    "#Definición de una variable string\n",
    "mystring = \"Cadena de texto\"\n",
    "\n",
    "#Verificar tipo de variable\n",
    "print(type(mystring))"
   ]
  },
  {
   "cell_type": "markdown",
   "id": "fc1b6984",
   "metadata": {},
   "source": [
    "Es posible especificar directamente cuál es el tipo de variable con el que se quiere trabajar. Este proceso es conocido como **Casting**. "
   ]
  },
  {
   "cell_type": "code",
   "execution_count": 4,
   "id": "7332959c",
   "metadata": {},
   "outputs": [
    {
     "name": "stdout",
     "output_type": "stream",
     "text": [
      "<class 'float'>\n",
      "Contenido de la variable castfloat =  10.0\n"
     ]
    }
   ],
   "source": [
    "#Casting a float variable \n",
    "castfloat = float(10)\n",
    "\n",
    "#Determinar el tipo de variable\n",
    "print(type(castfloat))\n",
    "\n",
    "#Imprimir el contenido de la variable\n",
    "print(\"Contenido de la variable castfloat = \", castfloat)"
   ]
  },
  {
   "cell_type": "code",
   "execution_count": 17,
   "id": "d4871dc8",
   "metadata": {},
   "outputs": [
    {
     "name": "stdout",
     "output_type": "stream",
     "text": [
      "<class 'str'>\n",
      "castfloat =  10\n"
     ]
    }
   ],
   "source": [
    "#Casting a string variable\n",
    "caststring = str(10)\n",
    "\n",
    "#Determinar el tipo de variable\n",
    "print(type(caststring))\n",
    "\n",
    "#Imprimir el contenido de la variable\n",
    "print(\"castfloat = \", caststring)"
   ]
  },
  {
   "cell_type": "markdown",
   "id": "01dacea4",
   "metadata": {},
   "source": [
    "En el segundo ejemplo, el procesador interpreta que la variable `caststring` contiene una cadena de texto no obstante de que su valor es **10**. "
   ]
  },
  {
   "cell_type": "markdown",
   "id": "880ec369",
   "metadata": {},
   "source": [
    "Es posible definir un número indefinido de variables al interior del mismo bloque de código. "
   ]
  },
  {
   "cell_type": "code",
   "execution_count": 18,
   "id": "b0cf674c",
   "metadata": {},
   "outputs": [
    {
     "name": "stdout",
     "output_type": "stream",
     "text": [
      "289 cheveaux\n"
     ]
    }
   ],
   "source": [
    "#Variable númerica\n",
    "vnum = 289\n",
    "\n",
    "#Variable string\n",
    "vstr = \"cheveaux\"\n",
    "\n",
    "#Imprimir el contenido de las dos variables\n",
    "print(vnum, vstr)"
   ]
  },
  {
   "cell_type": "markdown",
   "id": "893c7d32",
   "metadata": {},
   "source": [
    "Al nombrar una variables es importante seguir las siguientes convenciones:\n",
    "- El nombre de una variable debe iniciar con una letra\n",
    "- El nombre de una variable no puede iniciar con un carácter especial\n",
    "- El nombre de una variable solo puede contener carácteres alfanúmericos **(A-z, 0-9, _)**\n",
    "- El nombre de las variables en Python es sensible al caso, por lo que `Name` y `NAME` serán interpretados como dos variables distintas.\n",
    "- Existen algunas **palabras reservadas** (`keywords`) que no pueden ser utilizadas para nombrar variables en Python. Ejemplos: `class, import, break`, entre otros."
   ]
  },
  {
   "cell_type": "markdown",
   "id": "7571ad5f",
   "metadata": {},
   "source": [
    "Es posible verificar la cantidad de memoria utilizada por una variable. \n"
   ]
  },
  {
   "cell_type": "code",
   "execution_count": 21,
   "id": "ccaef28b",
   "metadata": {
    "scrolled": true
   },
   "outputs": [
    {
     "name": "stdout",
     "output_type": "stream",
     "text": [
      "Size of the vnum variable: 28 bytes.\n",
      "Size of the vstr variable: 57 bytes.\n"
     ]
    }
   ],
   "source": [
    "#Verificar memoria utilizada\n",
    "import sys\n",
    "print(\"Size of the vnum variable:\", sys.getsizeof(vnum), \"bytes.\")\n",
    "print(\"Size of the vstr variable:\", sys.getsizeof(vstr), \"bytes.\")"
   ]
  },
  {
   "cell_type": "markdown",
   "id": "82a1af78",
   "metadata": {},
   "source": [
    "El tipo de variable que más consume memoria en Python es el `string`, seguido por las variables de tipo `float` e `int`. En general, las variables `integer` consumen un espacio de 8 bytes."
   ]
  },
  {
   "cell_type": "markdown",
   "id": "1e552b3a",
   "metadata": {},
   "source": [
    "Para borrar una variable de la memoria de trabajo se utiliza la función `del`."
   ]
  },
  {
   "cell_type": "code",
   "execution_count": 23,
   "id": "6c92fb9f",
   "metadata": {},
   "outputs": [],
   "source": [
    "#Borrar una variable de la memoria\n",
    "del vnum"
   ]
  }
 ],
 "metadata": {
  "kernelspec": {
   "display_name": "Python 3 (ipykernel)",
   "language": "python",
   "name": "python3"
  },
  "language_info": {
   "codemirror_mode": {
    "name": "ipython",
    "version": 3
   },
   "file_extension": ".py",
   "mimetype": "text/x-python",
   "name": "python",
   "nbconvert_exporter": "python",
   "pygments_lexer": "ipython3",
   "version": "3.11.5"
  }
 },
 "nbformat": 4,
 "nbformat_minor": 5
}
