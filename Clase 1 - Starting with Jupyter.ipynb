{
 "cells": [
  {
   "cell_type": "markdown",
   "id": "77ee99b7",
   "metadata": {},
   "source": [
    "### ¿Qué es un Jupyter Notebook?"
   ]
  },
  {
   "cell_type": "markdown",
   "id": "d85e879f",
   "metadata": {},
   "source": [
    "The Jupyer Notebook is the original web application for creating and sharing computational documents. It offers a simple, streamlined, document-centric experience. Jupyter supports over 40 programming languages, including __Python, R, Julia, and Scala__.\n",
    "\n",
    "Notebooks can be shared using email, Dropbox, Github, and the Jupyter Notebook Viewer. You can produce rich interactive output: __HTML, widgets, videos, LaTeX, Markdown and custome MIME types__. \n",
    "\n",
    "Jupyter Notebooks offer big data tools such as Apache Spark, from Python, R, and Scala. You can explore the same data with pandas, scikit-learn, ggplot2 and TensorFlow."
   ]
  },
  {
   "cell_type": "markdown",
   "id": "97e94a9f",
   "metadata": {},
   "source": [
    "### ¿Qué tipo de texto se puede introducir a través de Markdown?"
   ]
  },
  {
   "cell_type": "markdown",
   "id": "3a0aaab1",
   "metadata": {},
   "source": [
    "Listas no ordenadas: \n",
    "- Python\n",
    "- R\n",
    "- Julia\n",
    "\n",
    "Listas ordenadas:\n",
    "1. R\n",
    "2. Python\n",
    "3. Julia\n",
    "\n",
    "También es posible insertar imágenes o vídeos: \n",
    "\n",
    "![alternative text](https://externlabs.com/blogs/wp-content/uploads/2022/11/MicrosoftTeams-image-19.jpg)"
   ]
  },
  {
   "cell_type": "markdown",
   "id": "52e9f5c7",
   "metadata": {},
   "source": [
    "### El uso más básico de Python es el de una calculadora"
   ]
  },
  {
   "cell_type": "code",
   "execution_count": 5,
   "id": "1e89392a",
   "metadata": {},
   "outputs": [
    {
     "data": {
      "text/plain": [
       "443556"
      ]
     },
     "execution_count": 5,
     "metadata": {},
     "output_type": "execute_result"
    }
   ],
   "source": [
    "666 * 666"
   ]
  },
  {
   "cell_type": "markdown",
   "id": "49ce3a9a",
   "metadata": {},
   "source": [
    "### Es hora de ejecutar la primera línea de código"
   ]
  },
  {
   "cell_type": "code",
   "execution_count": 6,
   "id": "3d3f80a5",
   "metadata": {},
   "outputs": [
    {
     "name": "stdout",
     "output_type": "stream",
     "text": [
      "Hello World!\n"
     ]
    }
   ],
   "source": [
    "#Comentario: vamos a utilizar la función print\n",
    "print(\"Hello World!\")"
   ]
  },
  {
   "cell_type": "markdown",
   "id": "be31ca92",
   "metadata": {},
   "source": [
    "La capacidad de introducir texto científico y código de Python en Jupyter lo convierte en una herramienta muy útil para gestionar el **flujo de trabajo** en programación y análisis de datos."
   ]
  }
 ],
 "metadata": {
  "kernelspec": {
   "display_name": "Python 3 (ipykernel)",
   "language": "python",
   "name": "python3"
  },
  "language_info": {
   "codemirror_mode": {
    "name": "ipython",
    "version": 3
   },
   "file_extension": ".py",
   "mimetype": "text/x-python",
   "name": "python",
   "nbconvert_exporter": "python",
   "pygments_lexer": "ipython3",
   "version": "3.11.5"
  }
 },
 "nbformat": 4,
 "nbformat_minor": 5
}
