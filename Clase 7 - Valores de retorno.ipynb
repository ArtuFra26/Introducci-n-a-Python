{
 "cells": [
  {
   "cell_type": "markdown",
   "id": "8e893078",
   "metadata": {},
   "source": [
    "## Gestión de *funciones fruitful*"
   ]
  },
  {
   "cell_type": "markdown",
   "id": "bb1dd0cf",
   "metadata": {},
   "source": [
    "Es posible reconocer al menos dos clases de funciones en Python en dependencia del tipo de `output` que producen: **funciones fruitful** y **funciones void**. \n",
    "\n",
    "Las funciones fruitful son aquellas que producen un **valor de salida** que puede ser utilizado para la ejecución de otras tareas del programa. En contraste, las funciones void generan un efecto, como imprimir un valor, pero no **retornan** un valor en la memoria de la sesión. \n",
    "\n",
    "Es importante mantener algunas consideraciones especiales al momento de cosntruir una función fruitful."
   ]
  },
  {
   "cell_type": "code",
   "execution_count": 1,
   "id": "7eb04e71",
   "metadata": {},
   "outputs": [],
   "source": [
    "#Cargar la base de datos de trabajo\n",
    "\n",
    "#Importar bibliotecas requeridas\n",
    "import pandas as pd\n",
    "import numpy as np\n",
    "\n",
    "#Importar el archivo de texto de extensión .csv\n",
    "df = pd.read_csv(\"D:/Documentos/Otros/Aplicaciones/DESI/Muertes_maternas_2002_2021.csv\")"
   ]
  },
  {
   "cell_type": "markdown",
   "id": "474fe6f7",
   "metadata": {},
   "source": [
    "A diferencia de las funciones void, las funciones fruitful *retornan* un valor de salida que puede ser utilizado como **input** para la ejecución de otras tareas. Este valor de salida puede ser almacenado en una **variable** o utilizado como parte de una **expresión**.\n",
    "\n",
    "Por su parte, si se intentara almacenar el output de una función void, únicamente se obtendría un objeto de tipo `None`. "
   ]
  },
  {
   "cell_type": "code",
   "execution_count": 10,
   "id": "d23dcff8",
   "metadata": {},
   "outputs": [
    {
     "name": "stdout",
     "output_type": "stream",
     "text": [
      "29.72136637642331\n"
     ]
    },
    {
     "data": {
      "text/plain": [
       "numpy.float64"
      ]
     },
     "execution_count": 10,
     "metadata": {},
     "output_type": "execute_result"
    }
   ],
   "source": [
    "#Generar la media de la edad de las mujeres\n",
    "mjs_ed_mu = df[\"EDAD\"].mean()\n",
    "\n",
    "#Imprimir la media de la edad de las mujeres\n",
    "print(mjs_ed_mu)\n",
    "\n",
    "#Imprimir tipo de objeto\n",
    "type(mjs_ed_mu)"
   ]
  },
  {
   "cell_type": "markdown",
   "id": "9e4feb5f",
   "metadata": {},
   "source": [
    "La función `mean()` retorna el promedio de la columna seleccionada de un dataframe. En este caso, se estimó la media de la variable de **edad** del dataset de *Muertes Maternas*. \n",
    "\n",
    "La media estimada es almacenada en la variable `mjs_ed_mu` para posteriormente ser utilizada en la expresión print. Al imprimir el tipo de objeto del que se trata, es posible observar que se trata de un número de tipo float."
   ]
  },
  {
   "cell_type": "markdown",
   "id": "86344780",
   "metadata": {},
   "source": [
    "## Return Values"
   ]
  },
  {
   "cell_type": "markdown",
   "id": "af01dcac",
   "metadata": {},
   "source": [
    "En Python, el argumento `return` es utilizado para solicitar de forma explícita la devolución de un valor de salida que se genera luego de la ejecución de una función. \n",
    "\n",
    "El argumento `return` permite asignar un valor de retorno a las funciones que son diseñadas por el usuario para el cumplimiento de tareas concretas. De este modo, es posible obtener valores de retorno a partir de expresiones que se apoyan en el uso de funciones void, como el acto de imprimir un resultado. \n",
    "\n",
    "La ventaja de utilizar el argumento `return` yace en la posibilidad de **simplificar** el diseño de funciones dando orden al flujo de ejecución. "
   ]
  },
  {
   "cell_type": "code",
   "execution_count": 2,
   "id": "73d33a24",
   "metadata": {},
   "outputs": [
    {
     "name": "stdout",
     "output_type": "stream",
     "text": [
      "Señale el estado de origen de las mujeres:JALISCO\n",
      "Señale la edad mínima de las mujeres:25\n",
      "Señale la edad máxima de las mujeres:35\n"
     ]
    },
    {
     "data": {
      "text/plain": [
       "30.09"
      ]
     },
     "execution_count": 2,
     "metadata": {},
     "output_type": "execute_result"
    }
   ],
   "source": [
    "#Diseñar una función que imprima la media de la edad de un grupo específico de mujeres\n",
    "\n",
    "#Definir la función\n",
    "def mean_mujs():\n",
    "    #Definir el estado del que deben ser originarias las mujeres\n",
    "    estado = input(\"Señale el estado de origen de las mujeres:\")\n",
    "    \n",
    "    #Definir la edad mínima de las mujeres\n",
    "    agemin = int(input(\"Señale la edad mínima de las mujeres:\"))\n",
    "    \n",
    "    #Definir la edad máxima de las mujeres\n",
    "    agemax = int(input(\"Señale la edad máxima de las mujeres:\"))\n",
    "    \n",
    "    #Hacer filtrado de características y calcular la media\n",
    "    df_fil = df[(df.ENTIDAD_RESIDENCIAD == estado) & (agemax > df.EDAD) & ( df.EDAD > agemin)]\n",
    "    \n",
    "    #Generar el valor de salida\n",
    "    return round(df_fil[\"EDAD\"].mean(),2)\n",
    "\n",
    "#Ejecutar función\n",
    "mean_mujs()"
   ]
  },
  {
   "cell_type": "markdown",
   "id": "51dbe010",
   "metadata": {},
   "source": [
    "La función `mean_mjs` calcula la edad promedio de un grupo de mujeres en depedencia de tres criterios: el estado de residencia, la edad mínima y la edad máxima. La función concluye con la provisión de la edad promedio del grupo específicado mediante el argumento `return`.\n",
    "\n",
    "La ejecución de este argumento **siempre** se verá acompañada por la **finalización del flujo de ejecución**, por lo que su uso debe estar bien definido."
   ]
  },
  {
   "cell_type": "markdown",
   "id": "2e850c94",
   "metadata": {},
   "source": [
    "El introducir una expresión `return` evita la necesidad de generar **variables temporales** que almacenen los resultados del flujo de ejecución. \n",
    "\n",
    "Su mayor espacio de aprovechamiento yace en las ramas (*branches*) que surjen como parte de la introducción de **sentencias condicionales** en un programa. Es posible colocar un `return` al final de cada rama para así **interrumpir** el flujo de ejecución una vez que un valor de salida es alcanzado por el cumplimiento de una condición y retornado al usuario.\n",
    "\n",
    "El código que aparece después de que se ejecuta una argumento `return`, y que nunca se ejecuta, es conocido como **código muerto** (*dead code*)."
   ]
  },
  {
   "cell_type": "code",
   "execution_count": 8,
   "id": "b2205a32",
   "metadata": {},
   "outputs": [
    {
     "name": "stdout",
     "output_type": "stream",
     "text": [
      "Señale el estado de origen de las mujeres:SONORA\n",
      "Señale la edad mínima de las mujeres:15\n",
      "Señale la edad máxima de las mujeres:20\n"
     ]
    }
   ],
   "source": [
    "#Ampliar la función para que estime la mediana si las mujeres son originarias de alguno de los estados más poblados del país\n",
    "\n",
    "#Redefinir la función\n",
    "def mean_mujs():\n",
    "    #Definir el estado del que deben ser originarias las mujeres\n",
    "    estado = input(\"Señale el estado de origen de las mujeres:\")\n",
    "    \n",
    "    #Definir la edad mínima de las mujeres\n",
    "    agemin = int(input(\"Señale la edad mínima de las mujeres:\"))\n",
    "    \n",
    "    #Definir la edad máxima de las mujeres\n",
    "    agemax = int(input(\"Señale la edad máxima de las mujeres:\"))\n",
    "    \n",
    "    #Imponer condición de estado más poblado\n",
    "    if estado == \"MÉXICO\" or estado == \"JALISCO\" or estado == \"CIUDAD DE MÉXICO\" or estado == \"NUEVO LEÓN\":\n",
    "        #Definir dataframe de trabajo\n",
    "        df_fil = df[(df.ENTIDAD_RESIDENCIAD == estado) & (agemax > df.EDAD) & ( df.EDAD > agemin)]\n",
    "        #Devolver la media y la mediana\n",
    "        return print(\"Media de la edad:\", round(df_fil[\"EDAD\"].mean(),2),\n",
    "                     \"\\nMediana de la edad:\", df_fil[\"EDAD\"].median())\n",
    "    \n",
    "    #Calcular solo la media para los demás estados\n",
    "    else:\n",
    "        #Definir dataframe de trabajo\n",
    "        df_fil = df[(df.ENTIDAD_RESIDENCIAD == estado) & (agemax > df.EDAD) & ( df.EDAD > agemin)]\n",
    "        #Generar el valor de salida\n",
    "        return round(df_fil[\"EDAD\"].mean(),2)\n",
    "    \n",
    "\n",
    "#Ejecutar la función\n",
    "med1 = mean_mujs()"
   ]
  },
  {
   "cell_type": "code",
   "execution_count": 9,
   "id": "93560463",
   "metadata": {},
   "outputs": [
    {
     "name": "stdout",
     "output_type": "stream",
     "text": [
      "17.89\n"
     ]
    },
    {
     "data": {
      "text/plain": [
       "numpy.float64"
      ]
     },
     "execution_count": 9,
     "metadata": {},
     "output_type": "execute_result"
    }
   ],
   "source": [
    "print(med1)\n",
    "type(med1)"
   ]
  },
  {
   "cell_type": "markdown",
   "id": "156baa6e",
   "metadata": {},
   "source": [
    "Es una **buena práctica** asegurarse que cada una de las ramas de una función **concluya** con la ejecución de un `return`. En el caso de la función `mean_mjs`, destaca que los argumentos return fueron colocados al final de cada una de las ejecuciones alternativas."
   ]
  },
  {
   "cell_type": "markdown",
   "id": "a4145636",
   "metadata": {},
   "source": [
    "## Incremental Development"
   ]
  },
  {
   "cell_type": "markdown",
   "id": "26083d87",
   "metadata": {},
   "source": [
    "Conforme la **complejidad** de las funciones diseñadas por el usuario incrementa, es deseable probar el adecuado funcionamiento del código en partes. De modo que sea posible verificar que cada una de las etapas del flujo de ejecución retorna los valores esperados. \n",
    "\n",
    "Esta práctica es conocida como *incremental development* y una forma en que puede ser ejecutada es mediante el aprovechamiento del método `return`. \n",
    "\n",
    "En este sentido, es posible utilizar el return a fin de *testear* cada una de las etapas de diseño del algoritmo y avanzar conforme se consigan los resultados esperados."
   ]
  },
  {
   "cell_type": "code",
   "execution_count": 14,
   "id": "cba2c682",
   "metadata": {},
   "outputs": [
    {
     "name": "stdout",
     "output_type": "stream",
     "text": [
      "Señale el estado de origen de las mujeres:CHIAPAS\n",
      "Señale la edad mínima de las mujeres:24\n",
      "Señale la edad máxima de las mujeres:25\n"
     ]
    },
    {
     "data": {
      "text/plain": [
       "('CHIAPAS', 24, 25)"
      ]
     },
     "execution_count": 14,
     "metadata": {},
     "output_type": "execute_result"
    }
   ],
   "source": [
    "#Diseñar una función que entregue la causa de defunción más común entre las mujeres\n",
    "\n",
    "#Primera etapa: definir los estados y edades deseados\n",
    "def causa_def():\n",
    "    #Definir el estado del que deben ser originarias las mujeres\n",
    "    estado = input(\"Señale el estado de origen de las mujeres:\")\n",
    "    \n",
    "    #Definir la edad mínima de las mujeres\n",
    "    agemin = int(input(\"Señale la edad mínima de las mujeres:\"))\n",
    "    \n",
    "    #Definir la edad máxima de las mujeres\n",
    "    agemax = int(input(\"Señale la edad máxima de las mujeres:\"))\n",
    "    \n",
    "    #Retornar el valor de los filtros\n",
    "    return estado, agemin, agemax\n",
    "\n",
    "#Ejecutar función\n",
    "causa_def()"
   ]
  },
  {
   "cell_type": "markdown",
   "id": "57a696e1",
   "metadata": {},
   "source": [
    "Como parte de la primera etapa de diseño, fue posible verificar que la función captura adecuadamente los valores deseados para el filtrado que son introducidos mediante la función `input`. Esto se verificar mediante el uso del argumento `return`. \n",
    "\n",
    "A continuación, se verificará si la operación de filtrado que tiene lugar al interior de la función se desarrolla correctamente:"
   ]
  },
  {
   "cell_type": "code",
   "execution_count": 16,
   "id": "690167d1",
   "metadata": {},
   "outputs": [
    {
     "name": "stdout",
     "output_type": "stream",
     "text": [
      "Señale el estado de origen de las mujeres:CHIAPAS\n",
      "Señale la edad mínima de las mujeres:35\n",
      "Señale la edad máxima de las mujeres:38\n"
     ]
    },
    {
     "data": {
      "text/plain": [
       "(array(['CHIAPAS'], dtype=object), array([36, 37], dtype=int64))"
      ]
     },
     "execution_count": 16,
     "metadata": {},
     "output_type": "execute_result"
    }
   ],
   "source": [
    "#Diseñar una función que entregue la causa de defunción más común entre las mujeres\n",
    "\n",
    "#Segunda etapa: definir la operación de filtrado\n",
    "def causa_def():\n",
    "    #Definir el estado del que deben ser originarias las mujeres\n",
    "    estado = input(\"Señale el estado de origen de las mujeres:\")\n",
    "    \n",
    "    #Definir la edad mínima de las mujeres\n",
    "    agemin = int(input(\"Señale la edad mínima de las mujeres:\"))\n",
    "    \n",
    "    #Definir la edad máxima de las mujeres\n",
    "    agemax = int(input(\"Señale la edad máxima de las mujeres:\"))\n",
    "    \n",
    "    #Definir dataframe de trabajo\n",
    "    df_fil = df[(df.ENTIDAD_RESIDENCIAD == estado) & (agemax > df.EDAD) & ( df.EDAD > agemin)]\n",
    "    \n",
    "    #Retornar el valor de los filtros\n",
    "    return df_fil[\"ENTIDAD_RESIDENCIAD\"].unique(), df_fil[\"EDAD\"].unique()\n",
    "\n",
    "#Ejecutar función\n",
    "causa_def()"
   ]
  },
  {
   "cell_type": "markdown",
   "id": "ceb1442d",
   "metadata": {},
   "source": [
    "La verificación de la segunda etapa de diseño permite constatar que el filtrado se ejecutó adecuadamente, en tanto que los valores finales en las columnas de **entidad de residencia** y **edad** son consistentes con los argumentos de filtrado.\n",
    "\n",
    "Finalmente, es posible evaluar si la función ejecuta de manera correcta la tarea de conteo y ordenación de la causa del fallecimiento:"
   ]
  },
  {
   "cell_type": "code",
   "execution_count": 30,
   "id": "b990e8ac",
   "metadata": {},
   "outputs": [
    {
     "name": "stdout",
     "output_type": "stream",
     "text": [
      "Señale el estado de origen de las mujeres:CHIAPAS\n",
      "Señale la edad mínima de las mujeres:18\n",
      "Señale la edad máxima de las mujeres:29\n"
     ]
    },
    {
     "data": {
      "text/html": [
       "<div>\n",
       "<style scoped>\n",
       "    .dataframe tbody tr th:only-of-type {\n",
       "        vertical-align: middle;\n",
       "    }\n",
       "\n",
       "    .dataframe tbody tr th {\n",
       "        vertical-align: top;\n",
       "    }\n",
       "\n",
       "    .dataframe thead th {\n",
       "        text-align: right;\n",
       "    }\n",
       "</style>\n",
       "<table border=\"1\" class=\"dataframe\">\n",
       "  <thead>\n",
       "    <tr style=\"text-align: right;\">\n",
       "      <th></th>\n",
       "      <th>Conteo</th>\n",
       "    </tr>\n",
       "    <tr>\n",
       "      <th>CAUSA_CIE_4D</th>\n",
       "      <th></th>\n",
       "    </tr>\n",
       "  </thead>\n",
       "  <tbody>\n",
       "    <tr>\n",
       "      <th>O721  OTRAS HEMORRAGIAS POSTPARTO INMEDIATAS</th>\n",
       "      <td>52</td>\n",
       "    </tr>\n",
       "    <tr>\n",
       "      <th>O150  ECLAMPSIA EN EL EMBARAZO</th>\n",
       "      <td>51</td>\n",
       "    </tr>\n",
       "    <tr>\n",
       "      <th>O720  HEMORRAGIA DEL TERCER PERÍODO DEL PARTO</th>\n",
       "      <td>50</td>\n",
       "    </tr>\n",
       "    <tr>\n",
       "      <th>O998  OTRAS ENFERMEDADES ESPECIFICADAS Y AFECCIONES QUE COMPLICAN EL EMBARAZO, EL PARTO Y EL PUERPERIO</th>\n",
       "      <td>47</td>\n",
       "    </tr>\n",
       "    <tr>\n",
       "      <th>O141  PREECLAMPSIA SEVERA</th>\n",
       "      <td>35</td>\n",
       "    </tr>\n",
       "    <tr>\n",
       "      <th>...</th>\n",
       "      <td>...</td>\n",
       "    </tr>\n",
       "    <tr>\n",
       "      <th>O439  TRASTORNO DE LA PLACENTA, NO ESPECIFICADO</th>\n",
       "      <td>1</td>\n",
       "    </tr>\n",
       "    <tr>\n",
       "      <th>O438  OTROS TRASTORNOS PLACENTARIOS</th>\n",
       "      <td>1</td>\n",
       "    </tr>\n",
       "    <tr>\n",
       "      <th>O860  INFECCIÓN DE HERIDA QUIRÚRGICA OBSTÉTRICA</th>\n",
       "      <td>1</td>\n",
       "    </tr>\n",
       "    <tr>\n",
       "      <th>O881  EMBOLIA DE LÍQUIDO AMNIÓTICO</th>\n",
       "      <td>1</td>\n",
       "    </tr>\n",
       "    <tr>\n",
       "      <th>B207  ENFERMEDAD POR VIH, RESULTANTE EN INFECCIONES MÚLTIPLES</th>\n",
       "      <td>1</td>\n",
       "    </tr>\n",
       "  </tbody>\n",
       "</table>\n",
       "<p>101 rows × 1 columns</p>\n",
       "</div>"
      ],
      "text/plain": [
       "                                                    Conteo\n",
       "CAUSA_CIE_4D                                              \n",
       "O721  OTRAS HEMORRAGIAS POSTPARTO INMEDIATAS            52\n",
       "O150  ECLAMPSIA EN EL EMBARAZO                          51\n",
       "O720  HEMORRAGIA DEL TERCER PERÍODO DEL PARTO           50\n",
       "O998  OTRAS ENFERMEDADES ESPECIFICADAS Y AFECCI...      47\n",
       "O141  PREECLAMPSIA SEVERA                               35\n",
       "...                                                    ...\n",
       "O439  TRASTORNO DE LA PLACENTA, NO ESPECIFICADO          1\n",
       "O438  OTROS TRASTORNOS PLACENTARIOS                      1\n",
       "O860  INFECCIÓN DE HERIDA QUIRÚRGICA OBSTÉTRICA          1\n",
       "O881  EMBOLIA DE LÍQUIDO AMNIÓTICO                       1\n",
       "B207  ENFERMEDAD POR VIH, RESULTANTE EN INFECCI...       1\n",
       "\n",
       "[101 rows x 1 columns]"
      ]
     },
     "execution_count": 30,
     "metadata": {},
     "output_type": "execute_result"
    }
   ],
   "source": [
    "#Diseñar una función que entregue la causa de defunción más común entre las mujeres\n",
    "\n",
    "#Tercera etapa: definir la operación de conteo y ordenación de resultados\n",
    "def causa_def():\n",
    "    #Definir el estado del que deben ser originarias las mujeres\n",
    "    estado = input(\"Señale el estado de origen de las mujeres:\")\n",
    "    \n",
    "    #Definir la edad mínima de las mujeres\n",
    "    agemin = int(input(\"Señale la edad mínima de las mujeres:\"))\n",
    "    \n",
    "    #Definir la edad máxima de las mujeres\n",
    "    agemax = int(input(\"Señale la edad máxima de las mujeres:\"))\n",
    "    \n",
    "    #Definir dataframe de trabajo\n",
    "    df_fil = df[(df.ENTIDAD_RESIDENCIAD == estado) & (agemax > df.EDAD) & ( df.EDAD > agemin)]\n",
    "    \n",
    "    #Definir conteo por causa de fallecimiento y ordenar\n",
    "    cs_fl = pd.DataFrame(df_fil.groupby([\"CAUSA_CIE_4D\"])[\"CAUSA_CIE_4D\"].count())\n",
    "    \n",
    "    #Renombrar nombre de columna de conteo\n",
    "    cs_fl.rename({\"CAUSA_CIE_4D\":\"Conteo\"}, axis=1, inplace=True)\n",
    "    \n",
    "    #Ordenar conteo de forma descendente\n",
    "    cs_fl = cs_fl.sort_values(\"Conteo\", ascending = False)\n",
    "    \n",
    "    #Retornar el valor de los filtros\n",
    "    return cs_fl\n",
    "\n",
    "#Ejecutar función\n",
    "causa_def()"
   ]
  },
  {
   "cell_type": "markdown",
   "id": "002046b3",
   "metadata": {},
   "source": [
    "La función `pd.DataFrame` de la biblioteca `Pandas` permite generar un objeto de tipo *Dataframe* a partir de un array ya existente en la memoria de trabajo de la sesión. Por su parte, el método `groupby` hace posible agrupar a las observaciones del dataframe con base en los **niveles** de la variable `CAUSA_CIE_4D` que contiene las categorías de fallecimiento por muerte materna. Finalmente, la función `count` hace un conteo de la cantidad de registros en cada uno de los niveles de la variable de agrupación. \n",
    "\n",
    "La función `rename` permite renombrar las variables que son provistas al interior del diccionario que sirve como argumento de esta función. Por otro lado, la función `sort_values` ordena los valores de la columna especificada como argumento."
   ]
  },
  {
   "cell_type": "markdown",
   "id": "97902202",
   "metadata": {},
   "source": [
    "La evaluación del output de la función hace explícito que ésta realiza adecuadamente las tareas de contabilizar la cantidad de eventos de cada una de las causas de muerte materna al interior del grupo específicado, así como de ordenar estos valores de manera descendente.\n",
    "\n",
    "En el caso de las mujeres del estado de Chiapas, situadas en el rango de edad que va de los 18 a los 29 años, la causa más recurrente de fallecimiento fue la de **OTRAS HEMORRAGIAS POSTPARTO INMEDIATAS**.\n",
    "\n",
    "Como paso final, resta filtrar el output de la función para recuperar únicamente la causa más común. "
   ]
  },
  {
   "cell_type": "code",
   "execution_count": 8,
   "id": "790b6ddc",
   "metadata": {},
   "outputs": [
    {
     "name": "stdout",
     "output_type": "stream",
     "text": [
      "Señale el estado de origen de las mujeres:JALISCO\n",
      "Señale la edad mínima de las mujeres:18\n",
      "Señale la edad máxima de las mujeres:25\n"
     ]
    },
    {
     "data": {
      "text/html": [
       "<div>\n",
       "<style scoped>\n",
       "    .dataframe tbody tr th:only-of-type {\n",
       "        vertical-align: middle;\n",
       "    }\n",
       "\n",
       "    .dataframe tbody tr th {\n",
       "        vertical-align: top;\n",
       "    }\n",
       "\n",
       "    .dataframe thead th {\n",
       "        text-align: right;\n",
       "    }\n",
       "</style>\n",
       "<table border=\"1\" class=\"dataframe\">\n",
       "  <thead>\n",
       "    <tr style=\"text-align: right;\">\n",
       "      <th></th>\n",
       "      <th>Conteo</th>\n",
       "    </tr>\n",
       "    <tr>\n",
       "      <th>CAUSA_CIE_4D</th>\n",
       "      <th></th>\n",
       "    </tr>\n",
       "  </thead>\n",
       "  <tbody>\n",
       "    <tr>\n",
       "      <th>C58X  TUMOR MALIGNO DE LA PLACENTA</th>\n",
       "      <td>4</td>\n",
       "    </tr>\n",
       "    <tr>\n",
       "      <th>O001  EMBARAZO TUBÁRICO</th>\n",
       "      <td>3</td>\n",
       "    </tr>\n",
       "    <tr>\n",
       "      <th>O008  OTROS EMBARAZOS ECTÓPICOS</th>\n",
       "      <td>1</td>\n",
       "    </tr>\n",
       "    <tr>\n",
       "      <th>O009  EMBARAZO ECTÓPICO, NO ESPECIFICADO</th>\n",
       "      <td>1</td>\n",
       "    </tr>\n",
       "    <tr>\n",
       "      <th>O021  ABORTO RETENIDO</th>\n",
       "      <td>1</td>\n",
       "    </tr>\n",
       "    <tr>\n",
       "      <th>...</th>\n",
       "      <td>...</td>\n",
       "    </tr>\n",
       "    <tr>\n",
       "      <th>O993  TRASTORNOS MENTALES Y ENFERMEDADES DEL SISTEMA NERVIOSO QUE COMPLICAN EL EMBARAZO, EL PARTO Y EL PUERPERIO</th>\n",
       "      <td>4</td>\n",
       "    </tr>\n",
       "    <tr>\n",
       "      <th>O994  ENFERMEDADES DEL SISTEMA CIRCULATORIO QUE COMPLICAN EL EMBARAZO, EL PARTO Y EL PURPERIO</th>\n",
       "      <td>14</td>\n",
       "    </tr>\n",
       "    <tr>\n",
       "      <th>O995  ENFERMEDADES DEL SISTEMA RESPIRATORIO QUE COMPLICAN EL EMBARAZO, EL PARTO Y EL PUERPERIO</th>\n",
       "      <td>13</td>\n",
       "    </tr>\n",
       "    <tr>\n",
       "      <th>O996  ENFERMEDADES DEL SISTEMA DIGESTIVO QUE COMPLICAN EL EMBARAZO, EL PARTO Y EL PUERPERIO</th>\n",
       "      <td>5</td>\n",
       "    </tr>\n",
       "    <tr>\n",
       "      <th>O998  OTRAS ENFERMEDADES ESPECIFICADAS Y AFECCIONES QUE COMPLICAN EL EMBARAZO, EL PARTO Y EL PUERPERIO</th>\n",
       "      <td>27</td>\n",
       "    </tr>\n",
       "  </tbody>\n",
       "</table>\n",
       "<p>63 rows × 1 columns</p>\n",
       "</div>"
      ],
      "text/plain": [
       "                                                    Conteo\n",
       "CAUSA_CIE_4D                                              \n",
       "C58X  TUMOR MALIGNO DE LA PLACENTA                       4\n",
       "O001  EMBARAZO TUBÁRICO                                  3\n",
       "O008  OTROS EMBARAZOS ECTÓPICOS                          1\n",
       "O009  EMBARAZO ECTÓPICO, NO ESPECIFICADO                 1\n",
       "O021  ABORTO RETENIDO                                    1\n",
       "...                                                    ...\n",
       "O993  TRASTORNOS MENTALES Y ENFERMEDADES DEL SI...       4\n",
       "O994  ENFERMEDADES DEL SISTEMA CIRCULATORIO QUE...      14\n",
       "O995  ENFERMEDADES DEL SISTEMA RESPIRATORIO QUE...      13\n",
       "O996  ENFERMEDADES DEL SISTEMA DIGESTIVO QUE CO...       5\n",
       "O998  OTRAS ENFERMEDADES ESPECIFICADAS Y AFECCI...      27\n",
       "\n",
       "[63 rows x 1 columns]"
      ]
     },
     "execution_count": 8,
     "metadata": {},
     "output_type": "execute_result"
    }
   ],
   "source": [
    "#Diseñar una función que entregue la causa de defunción más común entre las mujeres\n",
    "\n",
    "#Tercera etapa: definir la operación de conteo y ordenación de resultados\n",
    "def causa_def():\n",
    "    #Definir el estado del que deben ser originarias las mujeres\n",
    "    estado = input(\"Señale el estado de origen de las mujeres:\")\n",
    "    \n",
    "    #Definir la edad mínima de las mujeres\n",
    "    agemin = int(input(\"Señale la edad mínima de las mujeres:\"))\n",
    "    \n",
    "    #Definir la edad máxima de las mujeres\n",
    "    agemax = int(input(\"Señale la edad máxima de las mujeres:\"))\n",
    "    \n",
    "    #Definir dataframe de trabajo\n",
    "    df_fil = df[(df.ENTIDAD_RESIDENCIAD == estado) & (agemax > df.EDAD) & ( df.EDAD > agemin)]\n",
    "    \n",
    "    #Definir conteo por causa de fallecimiento y ordenar\n",
    "    cs_fl = pd.DataFrame(df_fil.groupby([\"CAUSA_CIE_4D\"])[\"CAUSA_CIE_4D\"].count())\n",
    "    \n",
    "    #Renombrar nombre de columna de conteo\n",
    "    cs_fl.rename({\"CAUSA_CIE_4D\":\"Conteo\"}, axis=1, inplace = True)\n",
    "    \n",
    "    #Ordenar conteo de forma descendente\n",
    "    cs_fl = cs_fl.sort_values(\"Conteo\", ascending = False)\n",
    "    \n",
    "    #Recuperar únicamente la causa más recurrente\n",
    "    cs_fl = cs_fl.iloc[0,:]\n",
    "    \n",
    "    #Retornar el valor de los filtros\n",
    "    return cs_fl\n",
    "\n",
    "#Ejecutar función\n",
    "causa_def()"
   ]
  },
  {
   "cell_type": "markdown",
   "id": "0b163853",
   "metadata": {},
   "source": [
    "La operación de filtrado para la recuperación de la causa de fallecimiento más común es ejecutada mediante la función `iloc`. En este caso, la lista `[0, :]` indica que se solicita la obtención de la fila ubicada en la primera posición para todas las columnas del dataframe. \n",
    "\n",
    "Ya que la única columna de la estructura corresponde a **Conteo**, el valor de salida de la función es el de un objeto de dimensiones: 1 x 1. "
   ]
  },
  {
   "cell_type": "markdown",
   "id": "4896d89a",
   "metadata": {},
   "source": [
    "En tanto que el método `return` recupera la forma final del dataset trabajado como parte del flujo de ejecución de la función, cabe la posibilidad de asignarlo directamente a una **variable**.\n",
    "\n",
    "Al hacerlo, se reconoce el carácter **fruitful** de la función *causa_def*. Con un objeto de tipo `series` como valor de salida."
   ]
  },
  {
   "cell_type": "code",
   "execution_count": 34,
   "id": "b84c2ef9",
   "metadata": {},
   "outputs": [
    {
     "name": "stdout",
     "output_type": "stream",
     "text": [
      "Señale el estado de origen de las mujeres:CHIAPAS\n",
      "Señale la edad mínima de las mujeres:18\n",
      "Señale la edad máxima de las mujeres:29\n"
     ]
    }
   ],
   "source": [
    "#Asignar valor de salida de la función a una variable\n",
    "resu_ex = causa_def()"
   ]
  },
  {
   "cell_type": "code",
   "execution_count": 35,
   "id": "f3faf91a",
   "metadata": {},
   "outputs": [
    {
     "name": "stdout",
     "output_type": "stream",
     "text": [
      "Conteo    52\n",
      "Name: O721  OTRAS HEMORRAGIAS POSTPARTO INMEDIATAS, dtype: int64\n"
     ]
    },
    {
     "data": {
      "text/plain": [
       "pandas.core.series.Series"
      ]
     },
     "execution_count": 35,
     "metadata": {},
     "output_type": "execute_result"
    }
   ],
   "source": [
    "#Imprimir valor de salida y su tipo\n",
    "print(resu_ex)\n",
    "type(resu_ex)"
   ]
  },
  {
   "cell_type": "markdown",
   "id": "355972b0",
   "metadata": {},
   "source": [
    "## Funciones booleanas"
   ]
  },
  {
   "cell_type": "markdown",
   "id": "5cfbf42b",
   "metadata": {},
   "source": [
    "Algunas funciones pueden retornar **valores booleanos** como output. Este tipo de valor de salida puede ser de utilidad para ejecutar otras tareas del flujo de ejecución.\n",
    "\n",
    "Es común asignar a estas funciones un **nombre** que indique el cumplimiento de una condición: *esVerdadero*. Este nombre puede ser indicativo de que el valor de salida de la función será un objeto `True` o `False`."
   ]
  },
  {
   "cell_type": "code",
   "execution_count": 11,
   "id": "315966ec",
   "metadata": {},
   "outputs": [
    {
     "data": {
      "text/plain": [
       "True"
      ]
     },
     "execution_count": 11,
     "metadata": {},
     "output_type": "execute_result"
    }
   ],
   "source": [
    "#Generar una función para verificar si una mujer es originaria de Jalisco\n",
    "\n",
    "#Definir una función\n",
    "def esDeJalisco(estado):\n",
    "    if estado == \"JALISCO\":\n",
    "        return True\n",
    "    else:\n",
    "        return False\n",
    "\n",
    "#Ejecutar la función \n",
    "esDeJalisco(\"JALISCO\")"
   ]
  },
  {
   "cell_type": "markdown",
   "id": "4fdca4b8",
   "metadata": {},
   "source": [
    "La función `esDeJalisco` verifica si el string provisto como argumento es igual a **Jalisco**. Esta función puede ser utilizada para la puesta en marcha de tareas de verificación y control. "
   ]
  },
  {
   "cell_type": "code",
   "execution_count": 13,
   "id": "b1618582",
   "metadata": {},
   "outputs": [
    {
     "name": "stdout",
     "output_type": "stream",
     "text": [
      "Señale el estado de origen de las mujeres:CHIAPAS\n"
     ]
    },
    {
     "data": {
      "text/plain": [
       "'Resultados no disponibles'"
      ]
     },
     "execution_count": 13,
     "metadata": {},
     "output_type": "execute_result"
    }
   ],
   "source": [
    "#Aumentar la función que entrega la causa de defunción para ejecutarse sólo cuando se pregunta por mujeres de Jalisco\n",
    "\n",
    "#Redefinir función\n",
    "def causa_def():\n",
    "    #Definir el estado del que deben ser originarias las mujeres\n",
    "    estado = input(\"Señale el estado de origen de las mujeres:\")\n",
    "    \n",
    "    #Verificar si se pregunta por mujeres de Jalisco\n",
    "    if esDeJalisco(estado) == True:\n",
    "    \n",
    "        #Definir la edad mínima de las mujeres\n",
    "        agemin = int(input(\"Señale la edad mínima de las mujeres:\"))\n",
    "\n",
    "        #Definir la edad máxima de las mujeres\n",
    "        agemax = int(input(\"Señale la edad máxima de las mujeres:\"))\n",
    "\n",
    "        #Definir dataframe de trabajo\n",
    "        df_fil = df[(df.ENTIDAD_RESIDENCIAD == estado) & (agemax > df.EDAD) & ( df.EDAD > agemin)]\n",
    "\n",
    "        #Definir conteo por causa de fallecimiento y ordenar\n",
    "        cs_fl = pd.DataFrame(df_fil.groupby([\"CAUSA_CIE_4D\"])[\"CAUSA_CIE_4D\"].count())\n",
    "\n",
    "        #Renombrar nombre de columna de conteo\n",
    "        cs_fl.rename({\"CAUSA_CIE_4D\":\"Conteo\"}, axis=1, inplace = True)\n",
    "\n",
    "        #Ordenar conteo de forma descendente\n",
    "        cs_fl = cs_fl.sort_values(\"Conteo\", ascending = False)\n",
    "\n",
    "        #Recuperar únicamente la causa más recurrente\n",
    "        cs_fl = cs_fl.iloc[0,:]\n",
    "\n",
    "        #Retornar el valor de los filtros\n",
    "        return cs_fl\n",
    "    \n",
    "    #Terminar el flujo de ejecución si no se pregunta por mujeres de Jalisco\n",
    "    else:\n",
    "        return \"Resultados no disponibles\"\n",
    "        \n",
    "#Implementar la función\n",
    "causa_def()"
   ]
  },
  {
   "cell_type": "markdown",
   "id": "8dd043c9",
   "metadata": {},
   "source": [
    "Dado que el valor de salida de las funciones que retornan valores **True/False** es de tipo booleano, es posible incorporalas a los flujos de ejecución de forma más **concisa**. "
   ]
  },
  {
   "cell_type": "code",
   "execution_count": 14,
   "id": "e7c11a80",
   "metadata": {},
   "outputs": [
    {
     "name": "stdout",
     "output_type": "stream",
     "text": [
      "Señale el estado de origen de las mujeres:JALISCO\n",
      "Señale la edad mínima de las mujeres:16\n",
      "Señale la edad máxima de las mujeres:26\n"
     ]
    },
    {
     "data": {
      "text/plain": [
       "Conteo    33\n",
       "Name: O998  OTRAS ENFERMEDADES ESPECIFICADAS Y AFECCIONES QUE COMPLICAN EL EMBARAZO, EL PARTO Y EL PUERPERIO, dtype: int64"
      ]
     },
     "execution_count": 14,
     "metadata": {},
     "output_type": "execute_result"
    }
   ],
   "source": [
    "#Reescribir la función de manera más concisa\n",
    "\n",
    "#Redefinir función\n",
    "def causa_def():\n",
    "    #Definir el estado del que deben ser originarias las mujeres\n",
    "    estado = input(\"Señale el estado de origen de las mujeres:\")\n",
    "    \n",
    "    #Verificar si se pregunta por mujeres de Jalisco\n",
    "    if esDeJalisco(estado):\n",
    "    \n",
    "        #Definir la edad mínima de las mujeres\n",
    "        agemin = int(input(\"Señale la edad mínima de las mujeres:\"))\n",
    "\n",
    "        #Definir la edad máxima de las mujeres\n",
    "        agemax = int(input(\"Señale la edad máxima de las mujeres:\"))\n",
    "\n",
    "        #Definir dataframe de trabajo\n",
    "        df_fil = df[(df.ENTIDAD_RESIDENCIAD == estado) & (agemax > df.EDAD) & ( df.EDAD > agemin)]\n",
    "\n",
    "        #Definir conteo por causa de fallecimiento y ordenar\n",
    "        cs_fl = pd.DataFrame(df_fil.groupby([\"CAUSA_CIE_4D\"])[\"CAUSA_CIE_4D\"].count())\n",
    "\n",
    "        #Renombrar nombre de columna de conteo\n",
    "        cs_fl.rename({\"CAUSA_CIE_4D\":\"Conteo\"}, axis=1, inplace = True)\n",
    "\n",
    "        #Ordenar conteo de forma descendente\n",
    "        cs_fl = cs_fl.sort_values(\"Conteo\", ascending = False)\n",
    "\n",
    "        #Recuperar únicamente la causa más recurrente\n",
    "        cs_fl = cs_fl.iloc[0,:]\n",
    "\n",
    "        #Retornar el valor de los filtros\n",
    "        return cs_fl\n",
    "    \n",
    "    #Terminar el flujo de ejecución si no se pregunta por mujeres de Jalisco\n",
    "    else:\n",
    "        return \"Resultados no disponibles\"\n",
    "        \n",
    "#Implementar la función\n",
    "causa_def()"
   ]
  },
  {
   "cell_type": "markdown",
   "id": "c3d9aa26",
   "metadata": {},
   "source": [
    "En la primera especificación de la función, la línea: `if esDeJalisco(estado) == True:` evalúa dos condiciones: primero la que se ejecuta como parte de la función `esDeJalisco` y, posteriormente, si el valor de salida de esta función es igual a `True`. \n",
    "\n",
    "Dado que el método `if` solo necesita de un valor `True` para ejecutar el cuerpo de la sentencia condicional, el incorporar una segunda verificación es innecesario."
   ]
  }
 ],
 "metadata": {
  "kernelspec": {
   "display_name": "Python 3 (ipykernel)",
   "language": "python",
   "name": "python3"
  },
  "language_info": {
   "codemirror_mode": {
    "name": "ipython",
    "version": 3
   },
   "file_extension": ".py",
   "mimetype": "text/x-python",
   "name": "python",
   "nbconvert_exporter": "python",
   "pygments_lexer": "ipython3",
   "version": "3.11.5"
  }
 },
 "nbformat": 4,
 "nbformat_minor": 5
}
